{
 "cells": [
  {
   "cell_type": "markdown",
   "metadata": {},
   "source": [
    "# Assignment 9 Part A: Unsupervised Clustering"
   ]
  },
  {
   "cell_type": "markdown",
   "metadata": {},
   "source": [
    "## Discussion and preprocessing plan\n",
    "A high sparsity exists, with ~0.5% of all transactions being fraud transactions.\n",
    "\n",
    "#### Time\n",
    "Going to need to convert date to seperate year-month-weekday columns. Will drop \"unix_time\" column since it contains highly duplicate data as the transaction date and time column. Granularity of time of day could be explored, but for now a simple day-month-year will be the first plan of attack.\n",
    "\n",
    "#### Customer Information\n",
    "\n",
    "Customer first and last name can be dropped in favor of the cc_num column. Customer's date of birth will be converted to simply how many years old they are. Their employment will be kept due to this providing valuable information of potential fraud transactions. The sex field is potentially ommitable, so if increased model performance is required removing sex will be among the first strategies. CC_num is a database index and does not provide true value to the analysis, therefore it will be dropped as well.\n",
    "\n",
    "**EDIT**\n",
    "After some experimentation, I found customer CC number to not be ordinal and creating categorically encoding it is unfeasible. I believe the name to be valuable and which customer it is coming from, but worried it will introduce too much sparsity when encoded. Future models could incorporate these data points by introducing some form of dimensionality reduction.\n",
    "\n",
    "#### Merchant information\n",
    "Merchant and category of purchase will need to be one-hot encoded. The amount of the transaction is valuable and will be scaled via normalization. Transaction number can be dropped as well since it is not providing any additional value.\n",
    "\n",
    "\n",
    "#### Geographic Information\n",
    "\n",
    "Lat-Lon combinations of both merchant and customer will not be used since not much valuable insight was obtained during data exploration. Customer street will also be dropped in favor of the city and city information as geographic information for the customer since I suspect it is too high detail and will be represented to some degree by the city column. Zip will also be dropped in favor of city and state.\n",
    "\n",
    "\n",
    "City population will be kept also. This could potentially have duplicate information stored in it since city itself is also a field. These two fields might be worth looking into further for processing.\n",
    "\n",
    "\n",
    "## Encoding Scheme\n",
    "\n",
    "Year and month will naturally be ordinally encoded. Week day however should be one-hot encoded since it is categorical over ordinal. Employment, merchant, and category will be one-hot encoded. The remainder of the numerical fields will be scaled using standardization.\n",
    "\n",
    "**EDIT**\n",
    " After experimenting, I found out that one-hot encoding every categorical field eats too much RAM. I decided on one-hot encoding state and employment. This was because state will capture geographical information while employment captures information about the person. City and category were dropped due to hardware limitations."
   ]
  },
  {
   "cell_type": "code",
   "execution_count": 4,
   "metadata": {},
   "outputs": [],
   "source": [
    "import pandas as pd\n",
    "import numpy as np\n",
    "import matplotlib.pyplot as plt\n",
    "from datetime import date, datetime, timedelta\n",
    "import matplotlib.pyplot as plt\n",
    "\n",
    "from sklearn.preprocessing import OrdinalEncoder\n",
    "from sklearn.preprocessing import OneHotEncoder\n",
    "from sklearn.preprocessing import StandardScaler\n",
    "from sklearn.preprocessing import Normalizer\n",
    "from sklearn.model_selection import train_test_split\n",
    "from sklearn.metrics import mean_squared_error\n",
    "from sklearn.metrics import confusion_matrix\n",
    "\n",
    "from sklearn.ensemble import RandomForestClassifier\n",
    "\n",
    "from sklearn.cluster import KMeans\n",
    "from sklearn.datasets import make_blobs\n",
    "from sklearn.metrics import silhouette_samples, silhouette_score\n",
    "from sklearn.metrics import PrecisionRecallDisplay"
   ]
  },
  {
   "cell_type": "code",
   "execution_count": 5,
   "metadata": {},
   "outputs": [],
   "source": [
    "fraud_dataset = pd.read_csv(\"transactions.csv\")"
   ]
  },
  {
   "cell_type": "markdown",
   "metadata": {},
   "source": [
    "### Drop Unwanted Columns"
   ]
  },
  {
   "cell_type": "markdown",
   "metadata": {},
   "source": [
    "### Seperate year-month-weekday and delete \"trans_date_trans_time\""
   ]
  },
  {
   "cell_type": "code",
   "execution_count": 6,
   "metadata": {},
   "outputs": [],
   "source": [
    "date_format = '%Y-%m-%d %H:%M:%S'\n",
    "year_column = [datetime.strptime(row_date, date_format).year for row_date in fraud_dataset.trans_date_trans_time]\n",
    "month_column = [datetime.strptime(row_date, date_format).month for row_date in fraud_dataset.trans_date_trans_time]\n",
    "weekday_column = [(datetime.strptime(row_date, date_format).toordinal()%7 + 1) for row_date in fraud_dataset.trans_date_trans_time]\n",
    "\n",
    "input_data = {\"year\": year_column,\n",
    "              \"month\": month_column,\n",
    "              \"weekday\": weekday_column}\n",
    "\n",
    "time_encoded_df = pd.DataFrame(data=input_data)\n",
    "\n",
    "del year_column\n",
    "del month_column\n",
    "del weekday_column"
   ]
  },
  {
   "cell_type": "markdown",
   "metadata": {},
   "source": [
    "### Encoding Processing"
   ]
  },
  {
   "cell_type": "code",
   "execution_count": 7,
   "metadata": {},
   "outputs": [],
   "source": [
    "# Encode Weekday Data\n",
    "weekday_encoder = OneHotEncoder()\n",
    "weekday_encoder.fit(time_encoded_df[\"weekday\"].to_numpy().reshape(-1, 1))\n",
    "weekday_encoded_values = weekday_encoder.fit_transform(time_encoded_df[['weekday']]).toarray()\n",
    "\n",
    "weekday_encoded_df = pd.DataFrame(weekday_encoded_values, columns=weekday_encoder.get_feature_names_out())\n",
    "weekday_encoded_df.head()\n",
    "\n",
    "del weekday_encoded_values"
   ]
  },
  {
   "cell_type": "code",
   "execution_count": 8,
   "metadata": {},
   "outputs": [
    {
     "data": {
      "text/html": [
       "<div>\n",
       "<style scoped>\n",
       "    .dataframe tbody tr th:only-of-type {\n",
       "        vertical-align: middle;\n",
       "    }\n",
       "\n",
       "    .dataframe tbody tr th {\n",
       "        vertical-align: top;\n",
       "    }\n",
       "\n",
       "    .dataframe thead th {\n",
       "        text-align: right;\n",
       "    }\n",
       "</style>\n",
       "<table border=\"1\" class=\"dataframe\">\n",
       "  <thead>\n",
       "    <tr style=\"text-align: right;\">\n",
       "      <th></th>\n",
       "      <th>year</th>\n",
       "      <th>month</th>\n",
       "      <th>weekday_1</th>\n",
       "      <th>weekday_2</th>\n",
       "      <th>weekday_3</th>\n",
       "      <th>weekday_4</th>\n",
       "      <th>weekday_5</th>\n",
       "      <th>weekday_6</th>\n",
       "      <th>weekday_7</th>\n",
       "    </tr>\n",
       "  </thead>\n",
       "  <tbody>\n",
       "    <tr>\n",
       "      <th>0</th>\n",
       "      <td>2019</td>\n",
       "      <td>1</td>\n",
       "      <td>0.0</td>\n",
       "      <td>0.0</td>\n",
       "      <td>1.0</td>\n",
       "      <td>0.0</td>\n",
       "      <td>0.0</td>\n",
       "      <td>0.0</td>\n",
       "      <td>0.0</td>\n",
       "    </tr>\n",
       "    <tr>\n",
       "      <th>1</th>\n",
       "      <td>2019</td>\n",
       "      <td>1</td>\n",
       "      <td>0.0</td>\n",
       "      <td>0.0</td>\n",
       "      <td>1.0</td>\n",
       "      <td>0.0</td>\n",
       "      <td>0.0</td>\n",
       "      <td>0.0</td>\n",
       "      <td>0.0</td>\n",
       "    </tr>\n",
       "    <tr>\n",
       "      <th>2</th>\n",
       "      <td>2019</td>\n",
       "      <td>1</td>\n",
       "      <td>0.0</td>\n",
       "      <td>0.0</td>\n",
       "      <td>1.0</td>\n",
       "      <td>0.0</td>\n",
       "      <td>0.0</td>\n",
       "      <td>0.0</td>\n",
       "      <td>0.0</td>\n",
       "    </tr>\n",
       "    <tr>\n",
       "      <th>3</th>\n",
       "      <td>2019</td>\n",
       "      <td>1</td>\n",
       "      <td>0.0</td>\n",
       "      <td>0.0</td>\n",
       "      <td>1.0</td>\n",
       "      <td>0.0</td>\n",
       "      <td>0.0</td>\n",
       "      <td>0.0</td>\n",
       "      <td>0.0</td>\n",
       "    </tr>\n",
       "    <tr>\n",
       "      <th>4</th>\n",
       "      <td>2019</td>\n",
       "      <td>1</td>\n",
       "      <td>0.0</td>\n",
       "      <td>0.0</td>\n",
       "      <td>1.0</td>\n",
       "      <td>0.0</td>\n",
       "      <td>0.0</td>\n",
       "      <td>0.0</td>\n",
       "      <td>0.0</td>\n",
       "    </tr>\n",
       "  </tbody>\n",
       "</table>\n",
       "</div>"
      ],
      "text/plain": [
       "   year  month  weekday_1  weekday_2  weekday_3  weekday_4  weekday_5  \\\n",
       "0  2019      1        0.0        0.0        1.0        0.0        0.0   \n",
       "1  2019      1        0.0        0.0        1.0        0.0        0.0   \n",
       "2  2019      1        0.0        0.0        1.0        0.0        0.0   \n",
       "3  2019      1        0.0        0.0        1.0        0.0        0.0   \n",
       "4  2019      1        0.0        0.0        1.0        0.0        0.0   \n",
       "\n",
       "   weekday_6  weekday_7  \n",
       "0        0.0        0.0  \n",
       "1        0.0        0.0  \n",
       "2        0.0        0.0  \n",
       "3        0.0        0.0  \n",
       "4        0.0        0.0  "
      ]
     },
     "execution_count": 8,
     "metadata": {},
     "output_type": "execute_result"
    }
   ],
   "source": [
    "time_encoded_df = pd.concat([time_encoded_df, weekday_encoded_df], axis=1)\n",
    "time_encoded_df = time_encoded_df.drop([\"weekday\"], axis=1)\n",
    "time_encoded_df.head()"
   ]
  },
  {
   "cell_type": "code",
   "execution_count": 9,
   "metadata": {},
   "outputs": [],
   "source": [
    "# Encode Merchant\n",
    "# merch_encoder = OneHotEncoder()\n",
    "# merch_encoder.fit(fraud_dataset_copy[\"merchant\"].to_numpy().reshape(-1, 1))\n",
    "# encoded_merch_values = merch_encoder.fit_transform(fraud_dataset_copy[['merchant']]).toarray()\n",
    "\n",
    "# merch_encoded_df = pd.DataFrame(encoded_merch_values, columns=merch_encoder.get_feature_names())\n",
    "# merch_encoded_df.head()\n",
    "# print(len(merch_encoded_df.columns))"
   ]
  },
  {
   "cell_type": "code",
   "execution_count": 10,
   "metadata": {},
   "outputs": [],
   "source": [
    "# Encode Category\n",
    "# category_encoder = OneHotEncoder()\n",
    "# category_encoder.fit(fraud_dataset_copy[\"merchant\"].to_numpy().reshape(-1, 1))\n",
    "# encoded_category_values = category_encoder.fit_transform(fraud_dataset_copy[['merchant']]).toarray()\n",
    "\n",
    "# category_encoded_df = pd.DataFrame(encoded_category_values, columns=category_encoder.get_feature_names())\n",
    "# category_encoded_df.head()\n",
    "# print(len(category_encoded_df.columns))"
   ]
  },
  {
   "cell_type": "code",
   "execution_count": 11,
   "metadata": {},
   "outputs": [
    {
     "name": "stdout",
     "output_type": "stream",
     "text": [
      "2\n"
     ]
    }
   ],
   "source": [
    "# Encode sex\n",
    "sex_encoder = OneHotEncoder()\n",
    "sex_encoder.fit(fraud_dataset[\"sex\"].to_numpy().reshape(-1, 1))\n",
    "encoded_sex_values = sex_encoder.fit_transform(fraud_dataset[['sex']]).toarray()\n",
    "\n",
    "sex_encoded_df = pd.DataFrame(encoded_sex_values, columns=sex_encoder.get_feature_names_out())\n",
    "sex_encoded_df.head()\n",
    "print(len(sex_encoded_df.columns))\n",
    "\n",
    "del encoded_sex_values\n"
   ]
  },
  {
   "cell_type": "code",
   "execution_count": 12,
   "metadata": {},
   "outputs": [],
   "source": [
    "# Encode state\n",
    "state_encoder = OneHotEncoder()\n",
    "state_encoder.fit(fraud_dataset[\"state\"].to_numpy().reshape(-1, 1))\n",
    "encoded_state_values = state_encoder.fit_transform(fraud_dataset[['state']]).toarray()\n",
    "\n",
    "state_encoded_df = pd.DataFrame(encoded_state_values, columns=state_encoder.get_feature_names_out())\n",
    "state_encoded_df.head()\n",
    "\n",
    "del encoded_state_values"
   ]
  },
  {
   "cell_type": "code",
   "execution_count": 13,
   "metadata": {},
   "outputs": [],
   "source": [
    "# Encode city\n",
    "# city_encoder = OneHotEncoder()\n",
    "# city_encoder.fit(fraud_dataset_copy[\"city\"].to_numpy().reshape(-1, 1))\n",
    "# encoded_city_values = city_encoder.fit_transform(fraud_dataset_copy[['city']]).toarray()\n",
    "\n",
    "# city_encoded_df = pd.DataFrame(encoded_city_values, columns=city_encoder.get_feature_names())\n",
    "# city_encoded_df.head()"
   ]
  },
  {
   "cell_type": "code",
   "execution_count": 14,
   "metadata": {},
   "outputs": [],
   "source": [
    "# Encode Employment\n",
    "employment_encoder = OneHotEncoder()\n",
    "employment_encoder.fit(fraud_dataset[\"job\"].to_numpy().reshape(-1, 1))\n",
    "encoded_employment_values = employment_encoder.fit_transform(fraud_dataset[['job']]).toarray()\n",
    "\n",
    "job_encoded_df = pd.DataFrame(encoded_employment_values, columns=employment_encoder.get_feature_names_out())\n",
    "job_encoded_df.head()\n",
    "\n",
    "del encoded_employment_values"
   ]
  },
  {
   "cell_type": "code",
   "execution_count": 15,
   "metadata": {},
   "outputs": [],
   "source": [
    "# print(len(employment_encoder.get_feature_names()))"
   ]
  },
  {
   "cell_type": "code",
   "execution_count": 16,
   "metadata": {},
   "outputs": [],
   "source": [
    "# encoded_employment_df = pd.DataFrame(encoded_employment_values, columns=employment_encoder.get_feature_names())\n",
    "# encoded_employment_df.head()"
   ]
  },
  {
   "cell_type": "markdown",
   "metadata": {},
   "source": [
    "### Recreate "
   ]
  },
  {
   "cell_type": "code",
   "execution_count": 17,
   "metadata": {},
   "outputs": [
    {
     "data": {
      "text/html": [
       "<div>\n",
       "<style scoped>\n",
       "    .dataframe tbody tr th:only-of-type {\n",
       "        vertical-align: middle;\n",
       "    }\n",
       "\n",
       "    .dataframe tbody tr th {\n",
       "        vertical-align: top;\n",
       "    }\n",
       "\n",
       "    .dataframe thead th {\n",
       "        text-align: right;\n",
       "    }\n",
       "</style>\n",
       "<table border=\"1\" class=\"dataframe\">\n",
       "  <thead>\n",
       "    <tr style=\"text-align: right;\">\n",
       "      <th></th>\n",
       "      <th>merchant</th>\n",
       "      <th>category</th>\n",
       "      <th>amt</th>\n",
       "      <th>first</th>\n",
       "      <th>last</th>\n",
       "      <th>sex</th>\n",
       "      <th>street</th>\n",
       "      <th>city</th>\n",
       "      <th>state</th>\n",
       "      <th>zip</th>\n",
       "      <th>lat</th>\n",
       "      <th>long</th>\n",
       "      <th>city_pop</th>\n",
       "      <th>job</th>\n",
       "      <th>dob</th>\n",
       "      <th>trans_num</th>\n",
       "      <th>unix_time</th>\n",
       "      <th>merch_lat</th>\n",
       "      <th>merch_long</th>\n",
       "      <th>is_fraud</th>\n",
       "    </tr>\n",
       "  </thead>\n",
       "  <tbody>\n",
       "    <tr>\n",
       "      <th>0</th>\n",
       "      <td>fraud_Rippin, Kub and Mann</td>\n",
       "      <td>misc_net</td>\n",
       "      <td>4.97</td>\n",
       "      <td>Jennifer</td>\n",
       "      <td>Banks</td>\n",
       "      <td>F</td>\n",
       "      <td>561 Perry Cove</td>\n",
       "      <td>Moravian Falls</td>\n",
       "      <td>NC</td>\n",
       "      <td>28654</td>\n",
       "      <td>36.0788</td>\n",
       "      <td>-81.1781</td>\n",
       "      <td>3495</td>\n",
       "      <td>Psychologist, counselling</td>\n",
       "      <td>1988-03-09</td>\n",
       "      <td>0b242abb623afc578575680df30655b9</td>\n",
       "      <td>1325376018</td>\n",
       "      <td>36.011293</td>\n",
       "      <td>-82.048315</td>\n",
       "      <td>0</td>\n",
       "    </tr>\n",
       "    <tr>\n",
       "      <th>1</th>\n",
       "      <td>fraud_Heller, Gutmann and Zieme</td>\n",
       "      <td>grocery_pos</td>\n",
       "      <td>107.23</td>\n",
       "      <td>Stephanie</td>\n",
       "      <td>Gill</td>\n",
       "      <td>F</td>\n",
       "      <td>43039 Riley Greens Suite 393</td>\n",
       "      <td>Orient</td>\n",
       "      <td>WA</td>\n",
       "      <td>99160</td>\n",
       "      <td>48.8878</td>\n",
       "      <td>-118.2105</td>\n",
       "      <td>149</td>\n",
       "      <td>Special educational needs teacher</td>\n",
       "      <td>1978-06-21</td>\n",
       "      <td>1f76529f8574734946361c461b024d99</td>\n",
       "      <td>1325376044</td>\n",
       "      <td>49.159047</td>\n",
       "      <td>-118.186462</td>\n",
       "      <td>0</td>\n",
       "    </tr>\n",
       "    <tr>\n",
       "      <th>2</th>\n",
       "      <td>fraud_Lind-Buckridge</td>\n",
       "      <td>entertainment</td>\n",
       "      <td>220.11</td>\n",
       "      <td>Edward</td>\n",
       "      <td>Sanchez</td>\n",
       "      <td>M</td>\n",
       "      <td>594 White Dale Suite 530</td>\n",
       "      <td>Malad City</td>\n",
       "      <td>ID</td>\n",
       "      <td>83252</td>\n",
       "      <td>42.1808</td>\n",
       "      <td>-112.2620</td>\n",
       "      <td>4154</td>\n",
       "      <td>Nature conservation officer</td>\n",
       "      <td>1962-01-19</td>\n",
       "      <td>a1a22d70485983eac12b5b88dad1cf95</td>\n",
       "      <td>1325376051</td>\n",
       "      <td>43.150704</td>\n",
       "      <td>-112.154481</td>\n",
       "      <td>0</td>\n",
       "    </tr>\n",
       "    <tr>\n",
       "      <th>3</th>\n",
       "      <td>fraud_Kutch, Hermiston and Farrell</td>\n",
       "      <td>gas_transport</td>\n",
       "      <td>45.00</td>\n",
       "      <td>Jeremy</td>\n",
       "      <td>White</td>\n",
       "      <td>M</td>\n",
       "      <td>9443 Cynthia Court Apt. 038</td>\n",
       "      <td>Boulder</td>\n",
       "      <td>MT</td>\n",
       "      <td>59632</td>\n",
       "      <td>46.2306</td>\n",
       "      <td>-112.1138</td>\n",
       "      <td>1939</td>\n",
       "      <td>Patent attorney</td>\n",
       "      <td>1967-01-12</td>\n",
       "      <td>6b849c168bdad6f867558c3793159a81</td>\n",
       "      <td>1325376076</td>\n",
       "      <td>47.034331</td>\n",
       "      <td>-112.561071</td>\n",
       "      <td>0</td>\n",
       "    </tr>\n",
       "    <tr>\n",
       "      <th>4</th>\n",
       "      <td>fraud_Keeling-Crist</td>\n",
       "      <td>misc_pos</td>\n",
       "      <td>41.96</td>\n",
       "      <td>Tyler</td>\n",
       "      <td>Garcia</td>\n",
       "      <td>M</td>\n",
       "      <td>408 Bradley Rest</td>\n",
       "      <td>Doe Hill</td>\n",
       "      <td>VA</td>\n",
       "      <td>24433</td>\n",
       "      <td>38.4207</td>\n",
       "      <td>-79.4629</td>\n",
       "      <td>99</td>\n",
       "      <td>Dance movement psychotherapist</td>\n",
       "      <td>1986-03-28</td>\n",
       "      <td>a41d7549acf90789359a9aa5346dcb46</td>\n",
       "      <td>1325376186</td>\n",
       "      <td>38.674999</td>\n",
       "      <td>-78.632459</td>\n",
       "      <td>0</td>\n",
       "    </tr>\n",
       "  </tbody>\n",
       "</table>\n",
       "</div>"
      ],
      "text/plain": [
       "                             merchant       category     amt      first  \\\n",
       "0          fraud_Rippin, Kub and Mann       misc_net    4.97   Jennifer   \n",
       "1     fraud_Heller, Gutmann and Zieme    grocery_pos  107.23  Stephanie   \n",
       "2                fraud_Lind-Buckridge  entertainment  220.11     Edward   \n",
       "3  fraud_Kutch, Hermiston and Farrell  gas_transport   45.00     Jeremy   \n",
       "4                 fraud_Keeling-Crist       misc_pos   41.96      Tyler   \n",
       "\n",
       "      last sex                        street            city state    zip  \\\n",
       "0    Banks   F                561 Perry Cove  Moravian Falls    NC  28654   \n",
       "1     Gill   F  43039 Riley Greens Suite 393          Orient    WA  99160   \n",
       "2  Sanchez   M      594 White Dale Suite 530      Malad City    ID  83252   \n",
       "3    White   M   9443 Cynthia Court Apt. 038         Boulder    MT  59632   \n",
       "4   Garcia   M              408 Bradley Rest        Doe Hill    VA  24433   \n",
       "\n",
       "       lat      long  city_pop                                job         dob  \\\n",
       "0  36.0788  -81.1781      3495          Psychologist, counselling  1988-03-09   \n",
       "1  48.8878 -118.2105       149  Special educational needs teacher  1978-06-21   \n",
       "2  42.1808 -112.2620      4154        Nature conservation officer  1962-01-19   \n",
       "3  46.2306 -112.1138      1939                    Patent attorney  1967-01-12   \n",
       "4  38.4207  -79.4629        99     Dance movement psychotherapist  1986-03-28   \n",
       "\n",
       "                          trans_num   unix_time  merch_lat  merch_long  \\\n",
       "0  0b242abb623afc578575680df30655b9  1325376018  36.011293  -82.048315   \n",
       "1  1f76529f8574734946361c461b024d99  1325376044  49.159047 -118.186462   \n",
       "2  a1a22d70485983eac12b5b88dad1cf95  1325376051  43.150704 -112.154481   \n",
       "3  6b849c168bdad6f867558c3793159a81  1325376076  47.034331 -112.561071   \n",
       "4  a41d7549acf90789359a9aa5346dcb46  1325376186  38.674999  -78.632459   \n",
       "\n",
       "   is_fraud  \n",
       "0         0  \n",
       "1         0  \n",
       "2         0  \n",
       "3         0  \n",
       "4         0  "
      ]
     },
     "execution_count": 17,
     "metadata": {},
     "output_type": "execute_result"
    }
   ],
   "source": [
    "drop_columns = [\"Unnamed: 0\", \"cc_num\", \"trans_date_trans_time\"]\n",
    "fraud_dataset.drop(drop_columns, axis=1, inplace=True)\n",
    "fraud_dataset.head()"
   ]
  },
  {
   "cell_type": "code",
   "execution_count": 18,
   "metadata": {},
   "outputs": [],
   "source": [
    "drop_columns = [\"first\", \"last\", \"zip\", \"lat\", \"long\", \"merch_lat\", \"merch_long\", \"trans_num\", \"unix_time\", \"street\"]\n",
    "fraud_dataset.drop(drop_columns, axis=1, inplace=True)"
   ]
  },
  {
   "cell_type": "code",
   "execution_count": 19,
   "metadata": {},
   "outputs": [],
   "source": [
    "# Drop modified columns from dataset\n",
    "fraud_dataset = fraud_dataset.drop([\"category\", \"sex\", \"merchant\", \"state\", \"city\", \"job\", \"dob\"], axis=1)"
   ]
  },
  {
   "cell_type": "code",
   "execution_count": 20,
   "metadata": {},
   "outputs": [],
   "source": [
    "total_df = pd.concat([time_encoded_df, fraud_dataset], axis=1)\n",
    "total_df.head()\n",
    "\n",
    "del time_encoded_df\n",
    "del fraud_dataset"
   ]
  },
  {
   "cell_type": "code",
   "execution_count": 21,
   "metadata": {},
   "outputs": [],
   "source": [
    "pd.concat([total_df, sex_encoded_df], axis=1)\n",
    "total_df.head()\n",
    "\n",
    "del sex_encoded_df"
   ]
  },
  {
   "cell_type": "code",
   "execution_count": 22,
   "metadata": {},
   "outputs": [],
   "source": [
    "total_df = pd.concat([total_df, state_encoded_df], axis=1)\n",
    "total_df.head()\n",
    "del state_encoded_df"
   ]
  },
  {
   "cell_type": "code",
   "execution_count": 23,
   "metadata": {},
   "outputs": [],
   "source": [
    "total_df = pd.concat([total_df, job_encoded_df], axis=1)\n",
    "del job_encoded_df"
   ]
  },
  {
   "cell_type": "code",
   "execution_count": 24,
   "metadata": {},
   "outputs": [],
   "source": [
    "# Splitting the dataset into the Training set and Test set - use trian_test_split\n",
    "y = total_df[\"is_fraud\"]\n",
    "x = total_df.drop([\"is_fraud\"], axis=1)\n",
    "\n",
    "test__perc = .20      # 20% for test split\n",
    "feature_train, feature_test, label_train, label_test = train_test_split(x, y, test_size= test__perc)"
   ]
  },
  {
   "cell_type": "markdown",
   "metadata": {},
   "source": [
    "### Numerical Processing"
   ]
  },
  {
   "cell_type": "code",
   "execution_count": 25,
   "metadata": {},
   "outputs": [],
   "source": [
    "# Feature Scaling - required due to different orders of magnitude across the features\n",
    "# make sure to save the scaler for future use in inference\n",
    "\n",
    "feature_info = {}\n",
    "feature_year_info = {}\n",
    "feature_month_info = {}\n",
    "feature_amt_info = {}\n",
    "feature_pop_info = {}"
   ]
  },
  {
   "cell_type": "code",
   "execution_count": 26,
   "metadata": {},
   "outputs": [],
   "source": [
    "feature_year_info[\"mean\"] = feature_train[\"year\"].mean()\n",
    "feature_year_info[\"std\"] = feature_train[\"year\"].std()\n",
    "feature_info[\"year\"] = feature_year_info"
   ]
  },
  {
   "cell_type": "code",
   "execution_count": 27,
   "metadata": {},
   "outputs": [],
   "source": [
    "feature_month_info[\"mean\"] = feature_train[\"month\"].mean()\n",
    "feature_month_info[\"std\"] = feature_train[\"month\"].std()\n",
    "feature_info[\"month\"] = feature_month_info"
   ]
  },
  {
   "cell_type": "code",
   "execution_count": 28,
   "metadata": {},
   "outputs": [],
   "source": [
    "feature_amt_info[\"mean\"] = feature_train[\"amt\"].mean()\n",
    "feature_amt_info[\"std\"] = feature_train[\"amt\"].std()\n",
    "feature_info[\"amt\"] = feature_amt_info"
   ]
  },
  {
   "cell_type": "code",
   "execution_count": 29,
   "metadata": {},
   "outputs": [],
   "source": [
    "feature_pop_info[\"mean\"] = feature_train[\"city_pop\"].mean()\n",
    "feature_pop_info[\"std\"] = feature_train[\"city_pop\"].std()\n",
    "feature_info[\"city_pop\"] = feature_pop_info"
   ]
  },
  {
   "cell_type": "code",
   "execution_count": 30,
   "metadata": {},
   "outputs": [],
   "source": [
    "# scale feature train inputs\n",
    "feature_train.loc[:, \"year_scaled\"] = (feature_train[\"year\"]-feature_year_info[\"mean\"])/feature_year_info[\"std\"] \n",
    "feature_train.loc[:, \"month_scaled\"] = (feature_train[\"month\"]-feature_month_info[\"mean\"])/feature_month_info[\"std\"]\n",
    "feature_train.loc[:, \"amt_scaled\"] = (feature_train[\"amt\"]-feature_amt_info[\"mean\"])/feature_amt_info[\"std\"]\n",
    "feature_train.loc[:, \"city_pop_scaled\"] = (feature_train[\"city_pop\"]-feature_pop_info[\"mean\"])/feature_pop_info[\"std\"]"
   ]
  },
  {
   "cell_type": "code",
   "execution_count": 31,
   "metadata": {},
   "outputs": [],
   "source": [
    "# scale feature test inputs with train mean/std from training set\n",
    "feature_test.loc[:, \"year_scaled\"] = (feature_test[\"year\"]-feature_year_info[\"mean\"])/feature_year_info[\"std\"] \n",
    "feature_test.loc[:, \"month_scaled\"] = (feature_test[\"month\"]-feature_month_info[\"mean\"])/feature_month_info[\"std\"]\n",
    "feature_test.loc[:, \"amt_scaled\"] = (feature_test[\"amt\"]-feature_amt_info[\"mean\"])/feature_amt_info[\"std\"]\n",
    "feature_test.loc[:, \"city_pop_scaled\"] = (feature_test[\"city_pop\"]-feature_pop_info[\"mean\"])/feature_pop_info[\"std\"]"
   ]
  },
  {
   "cell_type": "code",
   "execution_count": 32,
   "metadata": {},
   "outputs": [],
   "source": [
    "feature_train = feature_train.drop([\"year\", \"month\", \"amt\", \"city_pop\"], axis=1)"
   ]
  },
  {
   "cell_type": "code",
   "execution_count": 33,
   "metadata": {},
   "outputs": [],
   "source": [
    "feature_test = feature_test.drop([\"year\", \"month\", \"amt\", \"city_pop\"], axis=1)"
   ]
  },
  {
   "cell_type": "code",
   "execution_count": 34,
   "metadata": {},
   "outputs": [
    {
     "data": {
      "text/html": [
       "<div>\n",
       "<style scoped>\n",
       "    .dataframe tbody tr th:only-of-type {\n",
       "        vertical-align: middle;\n",
       "    }\n",
       "\n",
       "    .dataframe tbody tr th {\n",
       "        vertical-align: top;\n",
       "    }\n",
       "\n",
       "    .dataframe thead th {\n",
       "        text-align: right;\n",
       "    }\n",
       "</style>\n",
       "<table border=\"1\" class=\"dataframe\">\n",
       "  <thead>\n",
       "    <tr style=\"text-align: right;\">\n",
       "      <th></th>\n",
       "      <th>weekday_1</th>\n",
       "      <th>weekday_2</th>\n",
       "      <th>weekday_3</th>\n",
       "      <th>weekday_4</th>\n",
       "      <th>weekday_5</th>\n",
       "      <th>weekday_6</th>\n",
       "      <th>weekday_7</th>\n",
       "      <th>state_AK</th>\n",
       "      <th>state_AL</th>\n",
       "      <th>state_AR</th>\n",
       "      <th>...</th>\n",
       "      <th>job_Waste management officer</th>\n",
       "      <th>job_Water engineer</th>\n",
       "      <th>job_Water quality scientist</th>\n",
       "      <th>job_Web designer</th>\n",
       "      <th>job_Wellsite geologist</th>\n",
       "      <th>job_Writer</th>\n",
       "      <th>year_scaled</th>\n",
       "      <th>month_scaled</th>\n",
       "      <th>amt_scaled</th>\n",
       "      <th>city_pop_scaled</th>\n",
       "    </tr>\n",
       "  </thead>\n",
       "  <tbody>\n",
       "    <tr>\n",
       "      <th>1768994</th>\n",
       "      <td>1.0</td>\n",
       "      <td>0.0</td>\n",
       "      <td>0.0</td>\n",
       "      <td>0.0</td>\n",
       "      <td>0.0</td>\n",
       "      <td>0.0</td>\n",
       "      <td>0.0</td>\n",
       "      <td>0.0</td>\n",
       "      <td>0.0</td>\n",
       "      <td>0.0</td>\n",
       "      <td>...</td>\n",
       "      <td>0.0</td>\n",
       "      <td>0.0</td>\n",
       "      <td>0.0</td>\n",
       "      <td>0.0</td>\n",
       "      <td>0.0</td>\n",
       "      <td>0.0</td>\n",
       "      <td>0.998611</td>\n",
       "      <td>1.415636</td>\n",
       "      <td>-0.139705</td>\n",
       "      <td>-0.057113</td>\n",
       "    </tr>\n",
       "    <tr>\n",
       "      <th>244127</th>\n",
       "      <td>0.0</td>\n",
       "      <td>0.0</td>\n",
       "      <td>0.0</td>\n",
       "      <td>0.0</td>\n",
       "      <td>1.0</td>\n",
       "      <td>0.0</td>\n",
       "      <td>0.0</td>\n",
       "      <td>0.0</td>\n",
       "      <td>0.0</td>\n",
       "      <td>0.0</td>\n",
       "      <td>...</td>\n",
       "      <td>0.0</td>\n",
       "      <td>0.0</td>\n",
       "      <td>0.0</td>\n",
       "      <td>0.0</td>\n",
       "      <td>0.0</td>\n",
       "      <td>0.0</td>\n",
       "      <td>-1.001390</td>\n",
       "      <td>-0.628251</td>\n",
       "      <td>-0.165692</td>\n",
       "      <td>-0.285906</td>\n",
       "    </tr>\n",
       "    <tr>\n",
       "      <th>1765771</th>\n",
       "      <td>1.0</td>\n",
       "      <td>0.0</td>\n",
       "      <td>0.0</td>\n",
       "      <td>0.0</td>\n",
       "      <td>0.0</td>\n",
       "      <td>0.0</td>\n",
       "      <td>0.0</td>\n",
       "      <td>0.0</td>\n",
       "      <td>0.0</td>\n",
       "      <td>0.0</td>\n",
       "      <td>...</td>\n",
       "      <td>0.0</td>\n",
       "      <td>0.0</td>\n",
       "      <td>0.0</td>\n",
       "      <td>0.0</td>\n",
       "      <td>0.0</td>\n",
       "      <td>0.0</td>\n",
       "      <td>0.998611</td>\n",
       "      <td>1.415636</td>\n",
       "      <td>0.140145</td>\n",
       "      <td>-0.291383</td>\n",
       "    </tr>\n",
       "    <tr>\n",
       "      <th>1106454</th>\n",
       "      <td>1.0</td>\n",
       "      <td>0.0</td>\n",
       "      <td>0.0</td>\n",
       "      <td>0.0</td>\n",
       "      <td>0.0</td>\n",
       "      <td>0.0</td>\n",
       "      <td>0.0</td>\n",
       "      <td>0.0</td>\n",
       "      <td>0.0</td>\n",
       "      <td>0.0</td>\n",
       "      <td>...</td>\n",
       "      <td>0.0</td>\n",
       "      <td>0.0</td>\n",
       "      <td>0.0</td>\n",
       "      <td>0.0</td>\n",
       "      <td>0.0</td>\n",
       "      <td>0.0</td>\n",
       "      <td>0.998611</td>\n",
       "      <td>-0.920234</td>\n",
       "      <td>-0.368908</td>\n",
       "      <td>-0.292217</td>\n",
       "    </tr>\n",
       "    <tr>\n",
       "      <th>1620857</th>\n",
       "      <td>0.0</td>\n",
       "      <td>0.0</td>\n",
       "      <td>0.0</td>\n",
       "      <td>0.0</td>\n",
       "      <td>0.0</td>\n",
       "      <td>1.0</td>\n",
       "      <td>0.0</td>\n",
       "      <td>0.0</td>\n",
       "      <td>0.0</td>\n",
       "      <td>0.0</td>\n",
       "      <td>...</td>\n",
       "      <td>0.0</td>\n",
       "      <td>0.0</td>\n",
       "      <td>0.0</td>\n",
       "      <td>0.0</td>\n",
       "      <td>0.0</td>\n",
       "      <td>0.0</td>\n",
       "      <td>0.998611</td>\n",
       "      <td>0.831668</td>\n",
       "      <td>-0.040183</td>\n",
       "      <td>-0.288253</td>\n",
       "    </tr>\n",
       "  </tbody>\n",
       "</table>\n",
       "<p>5 rows × 559 columns</p>\n",
       "</div>"
      ],
      "text/plain": [
       "         weekday_1  weekday_2  weekday_3  weekday_4  weekday_5  weekday_6  \\\n",
       "1768994        1.0        0.0        0.0        0.0        0.0        0.0   \n",
       "244127         0.0        0.0        0.0        0.0        1.0        0.0   \n",
       "1765771        1.0        0.0        0.0        0.0        0.0        0.0   \n",
       "1106454        1.0        0.0        0.0        0.0        0.0        0.0   \n",
       "1620857        0.0        0.0        0.0        0.0        0.0        1.0   \n",
       "\n",
       "         weekday_7  state_AK  state_AL  state_AR  ...  \\\n",
       "1768994        0.0       0.0       0.0       0.0  ...   \n",
       "244127         0.0       0.0       0.0       0.0  ...   \n",
       "1765771        0.0       0.0       0.0       0.0  ...   \n",
       "1106454        0.0       0.0       0.0       0.0  ...   \n",
       "1620857        0.0       0.0       0.0       0.0  ...   \n",
       "\n",
       "         job_Waste management officer  job_Water engineer  \\\n",
       "1768994                           0.0                 0.0   \n",
       "244127                            0.0                 0.0   \n",
       "1765771                           0.0                 0.0   \n",
       "1106454                           0.0                 0.0   \n",
       "1620857                           0.0                 0.0   \n",
       "\n",
       "         job_Water quality scientist  job_Web designer  \\\n",
       "1768994                          0.0               0.0   \n",
       "244127                           0.0               0.0   \n",
       "1765771                          0.0               0.0   \n",
       "1106454                          0.0               0.0   \n",
       "1620857                          0.0               0.0   \n",
       "\n",
       "         job_Wellsite geologist  job_Writer  year_scaled  month_scaled  \\\n",
       "1768994                     0.0         0.0     0.998611      1.415636   \n",
       "244127                      0.0         0.0    -1.001390     -0.628251   \n",
       "1765771                     0.0         0.0     0.998611      1.415636   \n",
       "1106454                     0.0         0.0     0.998611     -0.920234   \n",
       "1620857                     0.0         0.0     0.998611      0.831668   \n",
       "\n",
       "         amt_scaled  city_pop_scaled  \n",
       "1768994   -0.139705        -0.057113  \n",
       "244127    -0.165692        -0.285906  \n",
       "1765771    0.140145        -0.291383  \n",
       "1106454   -0.368908        -0.292217  \n",
       "1620857   -0.040183        -0.288253  \n",
       "\n",
       "[5 rows x 559 columns]"
      ]
     },
     "execution_count": 34,
     "metadata": {},
     "output_type": "execute_result"
    }
   ],
   "source": [
    "feature_train.head()"
   ]
  },
  {
   "cell_type": "code",
   "execution_count": 35,
   "metadata": {},
   "outputs": [],
   "source": [
    "def plot(params, scores,title, x_label, y_label):\n",
    "    fig, ax = plt.subplots()\n",
    "    ax.plot(params, scores)\n",
    "\n",
    "    ax.set(xlabel=x_label, ylabel=y_label,\n",
    "        title=title)\n",
    "    ax.grid()\n",
    "\n",
    "    plt.show()"
   ]
  },
  {
   "cell_type": "markdown",
   "metadata": {},
   "source": [
    "# Random Forest Parameter Tuning"
   ]
  },
  {
   "cell_type": "markdown",
   "metadata": {},
   "source": [
    "### Num Estimators"
   ]
  },
  {
   "cell_type": "code",
   "execution_count": 36,
   "metadata": {},
   "outputs": [
    {
     "name": "stdout",
     "output_type": "stream",
     "text": [
      "10 complete\n",
      "20 complete\n",
      "30 complete\n"
     ]
    }
   ],
   "source": [
    "est_scores = []\n",
    "est_params = [10, 20, 30]\n",
    "for estimator in est_params:\n",
    "    random_forest_model = RandomForestClassifier(n_estimators=estimator)\n",
    "    random_forest_model.fit(feature_train, label_train)\n",
    "    est_scores.append(random_forest_model.score(feature_test, label_test))\n",
    "    print(\"{} complete\".format(estimator))"
   ]
  },
  {
   "cell_type": "code",
   "execution_count": 38,
   "metadata": {},
   "outputs": [
    {
     "data": {
      "image/png": "[encoded data removed]",
      "text/plain": [
       "<Figure size 640x480 with 1 Axes>"
      ]
     },
     "metadata": {},
     "output_type": "display_data"
    }
   ],
   "source": [
    "plot(est_params, est_scores, \"Num Estimators Vs Accuracy\", \"Num Estimators\", \"Accuracy\")"
   ]
  },
  {
   "cell_type": "markdown",
   "metadata": {},
   "source": [
    "#### Num Estimators Explaination\n",
    "\n",
    "Because running larger number  of estimators was taking so long and crashing the kernel, I used 10, 20, and 30 as my number of estimators for plotting. An estimator creates its own tree for estimation, therefore it will require a whole new tree for memory. In the case there are more features, more estimators is preferred. From the plot you can see that the increase in estimators creates an increase in accuracy. "
   ]
  },
  {
   "cell_type": "markdown",
   "metadata": {},
   "source": [
    "### Max Depth"
   ]
  },
  {
   "cell_type": "code",
   "execution_count": 39,
   "metadata": {},
   "outputs": [],
   "source": [
    "depth_scores = []\n",
    "depth_params = [5, 10, 15]\n",
    "for depth in depth_params:\n",
    "    random_forest_model = RandomForestClassifier(max_depth=depth)\n",
    "    random_forest_model.fit(feature_train, label_train)\n",
    "    depth_scores.append(random_forest_model.score(feature_test, label_test))"
   ]
  },
  {
   "cell_type": "code",
   "execution_count": 40,
   "metadata": {},
   "outputs": [
    {
     "data": {
      "image/png": "[encoded data removed]",
      "text/plain": [
       "<Figure size 640x480 with 1 Axes>"
      ]
     },
     "metadata": {},
     "output_type": "display_data"
    }
   ],
   "source": [
    "plot(depth_params, depth_scores, \"Max Depth Vs Accuracy\", 'Max Depth', 'Accuracy')"
   ]
  },
  {
   "cell_type": "markdown",
   "metadata": {},
   "source": [
    "#### Max Depth Explaination\n",
    "The max depth does nto affect accuracy until it reaches 10, then it increases. I suspect that it would increase for more estimators beyond what the curve shows but then would taper off and diminishing returns or performance would be reached. Due to how long the models are taking to run, I am limited on time for testing larger depths"
   ]
  },
  {
   "cell_type": "markdown",
   "metadata": {},
   "source": [
    "### Max Features"
   ]
  },
  {
   "cell_type": "code",
   "execution_count": 42,
   "metadata": {},
   "outputs": [],
   "source": [
    "feature_scores = []\n",
    "features_params = ['sqrt', 'log2', None]\n",
    "for max_feature in features_params:\n",
    "    random_forest_model = RandomForestClassifier(max_features=max_feature)\n",
    "    random_forest_model.fit(feature_train, label_train)\n",
    "    feature_scores.append(random_forest_model.score(feature_test, label_test))"
   ]
  },
  {
   "cell_type": "code",
   "execution_count": null,
   "metadata": {},
   "outputs": [],
   "source": [
    "plot(features_params, feature_scores, \"Max Feature vs Accuracy\", 'Max Feature', 'Accuracy')"
   ]
  },
  {
   "cell_type": "markdown",
   "metadata": {},
   "source": [
    "Max features ran for an hour an a half before I cancelled. Taking too long and if it crashes my notebook I don't want to have to rerun everything else."
   ]
  },
  {
   "cell_type": "markdown",
   "metadata": {},
   "source": [
    "#### Final Remarks"
   ]
  },
  {
   "cell_type": "markdown",
   "metadata": {},
   "source": [
    "Given all the results, I would use 30 estimators with a max depth of 15. Depending on resources and more extensive testing, I may increase those values until diminishing returns are reached."
   ]
  }
 ],
 "metadata": {
  "kernelspec": {
   "display_name": "Python 3 (ipykernel)",
   "language": "python",
   "name": "python3"
  },
  "language_info": {
   "codemirror_mode": {
    "name": "ipython",
    "version": 3
   },
   "file_extension": ".py",
   "mimetype": "text/x-python",
   "name": "python",
   "nbconvert_exporter": "python",
   "pygments_lexer": "ipython3",
   "version": "3.9.1rc1"
  }
 },
 "nbformat": 4,
 "nbformat_minor": 2
}
