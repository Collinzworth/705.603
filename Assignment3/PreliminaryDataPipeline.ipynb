{
 "cells": [
  {
   "cell_type": "markdown",
   "id": "14c69089",
   "metadata": {},
   "source": [
    "# Preliminary Data Analytic Pipeline \n",
    "Provide a coded solution for each area below.  Where appropriate show output and explanations/insights.  Make sure it runs properly.\n",
    "You will need to install if required just\n",
    "\n",
    "!pip install < lib >\n",
    "* [pandas](https://pandas.pydata.org/)\n",
    "* [numpy](https://numpy.org/) \n",
    "* [sklearn](https://scikit-learn.org/stable) \n",
    "* [ydata_profiling](https://ydata-profiling.ydata.ai/docs/master/pages/getting_started/overview.html)"
   ]
  },
  {
   "cell_type": "code",
   "execution_count": 1,
   "id": "8670d01a",
   "metadata": {},
   "outputs": [],
   "source": [
    "import pandas as pd\n",
    "import numpy as np\n",
    "import sklearn\n",
    "from sklearn.model_selection import train_test_split\n",
    "from sklearn import preprocessing\n",
    "from copy import deepcopy\n",
    "import random\n",
    "import pprint\n",
    "pp = pprint.PrettyPrinter(indent=4)"
   ]
  },
  {
   "cell_type": "markdown",
   "id": "169603a7",
   "metadata": {},
   "source": [
    "## Data Integration\n",
    "Select a data store for **categorization** noting multiple input (X) features and one or more label(s) (y). For example if it is a fraud data set having multiple input features such as age, salary, transaction cost, etc and a label indicating fraudulent or not.  If you are ahead of the curve, you make work on the data set for your final project but it is not necessary.  One option is select the data from [kaggle.com](https://www.kaggle.com/datasets). Bring the data into a pandas dataframe. Do not select unstructured, free-form text or graphic data for this assignment. \n",
    "* Note why you selected this data set."
   ]
  },
  {
   "cell_type": "markdown",
   "id": "a1e0075f",
   "metadata": {},
   "source": [
    "\n",
    "Data chosen from Kaggle: \n",
    "https://www.kaggle.com/datasets/mcfurland/10-m-beatport-tracks-spotify-audio-features?resource=download\n",
    "\n",
    "This data aligns similarly with what I aim to do for my project. It contains many numeric features and categorical ones such as the mode or time signature that could be used as a classification variables.\n",
    "\n",
    "#### From the data information page\n",
    "\n",
    "About this file\n",
    "\n",
    "    isrc - International Standard Recording Code. Internationally recognized identification tool for sound and music video recordings. Used to match Spotify and Beatport tracks. (Primary Key)\n",
    "\n",
    "Considerations: A single ISRC can be assigned to multiple Spotify tracks and multiple Beatport tracks. These are fundamentally the same track with the same track metadata and audio file. Think:\n",
    "\n",
    "    Including a single on an album\n",
    "    Re-releasing several singles as an EP, mixtape or album\n",
    "    Re-releasing songs as a compilation, anthology or greatest hits\n",
    "\n",
    "    acousticness [0, 1] - A confidence measure from 0.0 to 1.0 of whether the track is acoustic. 1.0 represents high confidence the track is acoustic.\n",
    "\n",
    "    danceability [0, 1] - Danceability describes how suitable a track is for dancing based on a combination of musical elements including tempo, rhythm stability, beat strength, and overall regularity. A value of 0.0 is least danceable and 1.0 is most danceable.\n",
    "\n",
    "    duration_ms - The duration of the track in milliseconds.\n",
    "\n",
    "    energy [0, 1] - Energy is a measure from 0.0 to 1.0 and represents a perceptual measure of intensity and activity. Typically, energetic tracks feel fast, loud, and noisy. For example, death metal has high energy, while a Bach prelude scores low on the scale. Perceptual features contributing to this attribute include dynamic range, perceived loudness, timbre, onset rate, and general entropy.\n",
    "\n",
    "    instrumentalness [0, 1] - Predicts whether a track contains no vocals. \"Ooh\" and \"aah\" sounds are treated as instrumental in this context. Rap or spoken word tracks are clearly \"vocal\". The closer the instrumentalness value is to 1.0, the greater likelihood the track contains no vocal content. Values above 0.5 are intended to represent instrumental tracks, but confidence is higher as the value approaches 1.0.\n",
    "\n",
    "    key [-1, 11] - The key the track is in. Integers map to pitches using standard Pitch Class notation. E.g. 0 = C, 1 = C♯/D♭, 2 = D, and so on. If no key was detected, the value is -1.\n",
    "\n",
    "    liveness [0, 1] - Detects the presence of an audience in the recording. Higher liveness values represent an increased probability that the track was performed live. A value above 0.8 provides strong likelihood that the track is live.\n",
    "\n",
    "    loudness - The overall loudness of a track in decibels (dB). Loudness values are averaged across the entire track and are useful for comparing relative loudness of tracks. Loudness is the quality of a sound that is the primary psychological correlate of physical strength (amplitude). Values typically range between -60 and 0 db.\n",
    "\n",
    "    mode 0 or 1 - Mode indicates the modality (major or minor) of a track, the type of scale from which its melodic content is derived. Major is represented by 1 and minor is 0.\n",
    "\n",
    "    speechiness [0, 1] - Speechiness detects the presence of spoken words in a track. The more exclusively speech-like the recording (e.g. talk show, audio book, poetry), the closer to 1.0 the attribute value. Values above 0.66 describe tracks that are probably made entirely of spoken words. Values between 0.33 and 0.66 describe tracks that may contain both music and speech, either in sections or layered, including such cases as rap music. Values below 0.33 most likely represent music and other non-speech-like tracks.\n",
    "\n",
    "    tempo - The overall estimated tempo of a track in beats per minute (BPM). In musical terminology, tempo is the speed or pace of a given piece and derives directly from the average beat duration.\n",
    "\n",
    "    time_signature [3,7] - An estimated time signature. The time signature (meter) is a notational convention to specify how many beats are in each bar (or measure). The time signature ranges from 3 to 7 indicating time signatures of \"3/4\", to \"7/4\".\n",
    "\n",
    "    valence [0, 1] - A measure from 0.0 to 1.0 describing the musical positiveness conveyed by a track. Tracks with high valence sound more positive (e.g. happy, cheerful, euphoric), while tracks with low valence sound more negative (e.g. sad, depressed, angry).\n",
    "    \n",
    "    \n",
    "    \n",
    "    \n",
    "\n",
    "\n",
    "\n",
    "\n"
   ]
  },
  {
   "cell_type": "code",
   "execution_count": 2,
   "id": "64e52da7",
   "metadata": {},
   "outputs": [],
   "source": [
    "# Dataset \"10+ M. Beatport Tracks / Spotify Audio Features\" from Kaggle\n",
    "# https://www.kaggle.com/datasets/mcfurland/10-m-beatport-tracks-spotify-audio-features?resource=download\n",
    "\n",
    "# data integration\n",
    "file_path = \"audio_features.csv\"\n",
    "audio_feat_df = pd.read_csv(file_path)"
   ]
  },
  {
   "cell_type": "code",
   "execution_count": 3,
   "id": "5c69d0f2",
   "metadata": {},
   "outputs": [
    {
     "data": {
      "text/html": [
       "<div>\n",
       "<style scoped>\n",
       "    .dataframe tbody tr th:only-of-type {\n",
       "        vertical-align: middle;\n",
       "    }\n",
       "\n",
       "    .dataframe tbody tr th {\n",
       "        vertical-align: top;\n",
       "    }\n",
       "\n",
       "    .dataframe thead th {\n",
       "        text-align: right;\n",
       "    }\n",
       "</style>\n",
       "<table border=\"1\" class=\"dataframe\">\n",
       "  <thead>\n",
       "    <tr style=\"text-align: right;\">\n",
       "      <th></th>\n",
       "      <th>isrc</th>\n",
       "      <th>acousticness</th>\n",
       "      <th>danceability</th>\n",
       "      <th>duration_ms</th>\n",
       "      <th>energy</th>\n",
       "      <th>instrumentalness</th>\n",
       "      <th>key</th>\n",
       "      <th>liveness</th>\n",
       "      <th>loudness</th>\n",
       "      <th>mode</th>\n",
       "      <th>speechiness</th>\n",
       "      <th>tempo</th>\n",
       "      <th>time_signature</th>\n",
       "      <th>valence</th>\n",
       "      <th>updated_on</th>\n",
       "    </tr>\n",
       "  </thead>\n",
       "  <tbody>\n",
       "    <tr>\n",
       "      <th>0</th>\n",
       "      <td>AD4X65752184</td>\n",
       "      <td>0.906000</td>\n",
       "      <td>0.650</td>\n",
       "      <td>296733</td>\n",
       "      <td>0.350</td>\n",
       "      <td>0.775</td>\n",
       "      <td>3</td>\n",
       "      <td>0.1140</td>\n",
       "      <td>-11.777</td>\n",
       "      <td>1</td>\n",
       "      <td>0.0284</td>\n",
       "      <td>110</td>\n",
       "      <td>4</td>\n",
       "      <td>0.336</td>\n",
       "      <td>8/24/2023 9:27</td>\n",
       "    </tr>\n",
       "    <tr>\n",
       "      <th>1</th>\n",
       "      <td>AEA0D1991170</td>\n",
       "      <td>0.000950</td>\n",
       "      <td>0.621</td>\n",
       "      <td>191989</td>\n",
       "      <td>0.639</td>\n",
       "      <td>0.820</td>\n",
       "      <td>7</td>\n",
       "      <td>0.5060</td>\n",
       "      <td>-9.258</td>\n",
       "      <td>1</td>\n",
       "      <td>0.0775</td>\n",
       "      <td>140</td>\n",
       "      <td>4</td>\n",
       "      <td>0.346</td>\n",
       "      <td>8/24/2023 9:30</td>\n",
       "    </tr>\n",
       "    <tr>\n",
       "      <th>2</th>\n",
       "      <td>AEA0Q2004008</td>\n",
       "      <td>0.031200</td>\n",
       "      <td>0.692</td>\n",
       "      <td>282904</td>\n",
       "      <td>0.980</td>\n",
       "      <td>0.866</td>\n",
       "      <td>9</td>\n",
       "      <td>0.0969</td>\n",
       "      <td>-9.952</td>\n",
       "      <td>1</td>\n",
       "      <td>0.0881</td>\n",
       "      <td>140</td>\n",
       "      <td>4</td>\n",
       "      <td>0.225</td>\n",
       "      <td>8/24/2023 9:30</td>\n",
       "    </tr>\n",
       "    <tr>\n",
       "      <th>3</th>\n",
       "      <td>AEA0Q2004009</td>\n",
       "      <td>0.000558</td>\n",
       "      <td>0.516</td>\n",
       "      <td>197904</td>\n",
       "      <td>0.924</td>\n",
       "      <td>0.434</td>\n",
       "      <td>5</td>\n",
       "      <td>0.1530</td>\n",
       "      <td>-13.564</td>\n",
       "      <td>0</td>\n",
       "      <td>0.2200</td>\n",
       "      <td>148</td>\n",
       "      <td>4</td>\n",
       "      <td>0.204</td>\n",
       "      <td>8/24/2023 9:30</td>\n",
       "    </tr>\n",
       "    <tr>\n",
       "      <th>4</th>\n",
       "      <td>AEA0Q2004010</td>\n",
       "      <td>0.009380</td>\n",
       "      <td>0.587</td>\n",
       "      <td>199471</td>\n",
       "      <td>0.910</td>\n",
       "      <td>0.804</td>\n",
       "      <td>0</td>\n",
       "      <td>0.5630</td>\n",
       "      <td>-10.552</td>\n",
       "      <td>1</td>\n",
       "      <td>0.0596</td>\n",
       "      <td>136</td>\n",
       "      <td>4</td>\n",
       "      <td>0.321</td>\n",
       "      <td>8/24/2023 9:30</td>\n",
       "    </tr>\n",
       "  </tbody>\n",
       "</table>\n",
       "</div>"
      ],
      "text/plain": [
       "           isrc  acousticness  danceability  duration_ms  energy  \\\n",
       "0  AD4X65752184      0.906000         0.650       296733   0.350   \n",
       "1  AEA0D1991170      0.000950         0.621       191989   0.639   \n",
       "2  AEA0Q2004008      0.031200         0.692       282904   0.980   \n",
       "3  AEA0Q2004009      0.000558         0.516       197904   0.924   \n",
       "4  AEA0Q2004010      0.009380         0.587       199471   0.910   \n",
       "\n",
       "   instrumentalness  key  liveness  loudness  mode  speechiness  tempo  \\\n",
       "0             0.775    3    0.1140   -11.777     1       0.0284    110   \n",
       "1             0.820    7    0.5060    -9.258     1       0.0775    140   \n",
       "2             0.866    9    0.0969    -9.952     1       0.0881    140   \n",
       "3             0.434    5    0.1530   -13.564     0       0.2200    148   \n",
       "4             0.804    0    0.5630   -10.552     1       0.0596    136   \n",
       "\n",
       "   time_signature  valence      updated_on  \n",
       "0               4    0.336  8/24/2023 9:27  \n",
       "1               4    0.346  8/24/2023 9:30  \n",
       "2               4    0.225  8/24/2023 9:30  \n",
       "3               4    0.204  8/24/2023 9:30  \n",
       "4               4    0.321  8/24/2023 9:30  "
      ]
     },
     "execution_count": 3,
     "metadata": {},
     "output_type": "execute_result"
    }
   ],
   "source": [
    "# Show top 5 rows of data file\n",
    "audio_feat_df.head(5)"
   ]
  },
  {
   "cell_type": "code",
   "execution_count": 4,
   "id": "cd623125",
   "metadata": {},
   "outputs": [
    {
     "name": "stdout",
     "output_type": "stream",
     "text": [
      "Number of rows: 1048575\n"
     ]
    }
   ],
   "source": [
    "print(\"Number of rows: \" + str(len(audio_feat_df)))"
   ]
  },
  {
   "cell_type": "markdown",
   "id": "db1dbcfb",
   "metadata": {},
   "source": [
    "## Format and Type\n",
    "Determine the format of the file and the types of each feature."
   ]
  },
  {
   "cell_type": "code",
   "execution_count": 5,
   "id": "4bbc3f08",
   "metadata": {},
   "outputs": [],
   "source": [
    "# Print helper\n",
    "def print_helper(vals, formats):\n",
    "    format_str = ' '.join(formats)\n",
    "    print(format_str % vals)\n",
    "    return"
   ]
  },
  {
   "cell_type": "code",
   "execution_count": 6,
   "id": "7d54d7de",
   "metadata": {},
   "outputs": [
    {
     "name": "stdout",
     "output_type": "stream",
     "text": [
      "File type: csv\n",
      "\n",
      "Column data types: \n",
      "\n",
      "isrc                 object\n",
      "acousticness        float64\n",
      "danceability        float64\n",
      "duration_ms           int64\n",
      "energy              float64\n",
      "instrumentalness    float64\n",
      "key                   int64\n",
      "liveness            float64\n",
      "loudness            float64\n",
      "mode                  int64\n",
      "speechiness         float64\n",
      "tempo                 int64\n",
      "time_signature        int64\n",
      "valence             float64\n",
      "updated_on           object\n",
      "dtype: object\n"
     ]
    }
   ],
   "source": [
    "## format and type\n",
    "data_types = audio_feat_df.dtypes\n",
    "\n",
    "print(\"File type: {}\".format(file_path.split(\".\")[1]) + \"\\n\")\n",
    "\n",
    "print(\"Column data types: \\n\")\n",
    "print(data_types)"
   ]
  },
  {
   "cell_type": "markdown",
   "id": "618d9863",
   "metadata": {},
   "source": [
    "## Analysis\n",
    "Determine the dynamics of each feature (int/float - math stats, text - categorical or not)"
   ]
  },
  {
   "cell_type": "code",
   "execution_count": 7,
   "id": "792b27dc",
   "metadata": {},
   "outputs": [],
   "source": [
    "# Store dynamics in dictionary for use later on\n",
    "feature_dynamic = {}"
   ]
  },
  {
   "cell_type": "code",
   "execution_count": 8,
   "id": "17316cd0",
   "metadata": {},
   "outputs": [],
   "source": [
    "# Handles the case of int64 features. Small inte\n",
    "def print_ints(audio_feat_df, feature_dynamic, formats, column):\n",
    "    num_unique_vals = len(audio_feat_df[column].unique())\n",
    "    if num_unique_vals < 14:\n",
    "        dynamic = \"categorical\"\n",
    "        vals = (column, col_dtype, num_unique_vals, dynamic)\n",
    "        print_helper(vals, formats)\n",
    "    else:\n",
    "        dynamic = \"math/stats\"\n",
    "        vals = (column, col_dtype, num_unique_vals, dynamic)\n",
    "        print_helper(vals, formats)\n",
    "    feature_dynamic[column] = dynamic\n",
    "    return"
   ]
  },
  {
   "cell_type": "code",
   "execution_count": 9,
   "id": "ae895ffc",
   "metadata": {},
   "outputs": [
    {
     "name": "stdout",
     "output_type": "stream",
     "text": [
      "   Feature Type  Data Type Num Values            Dynamic\n",
      "           isrc     object                     discarded\n",
      "   acousticness    float64                    math/stats\n",
      "   danceability    float64                    math/stats\n",
      "    duration_ms      int64     295890         math/stats\n",
      "         energy    float64                    math/stats\n",
      "instrumentalness    float64                    math/stats\n",
      "            key      int64         12        categorical\n",
      "       liveness    float64                    math/stats\n",
      "       loudness    float64                    math/stats\n",
      "           mode      int64          2        categorical\n",
      "    speechiness    float64                    math/stats\n",
      "          tempo      int64        218         math/stats\n",
      " time_signature      int64          5        categorical\n",
      "        valence    float64                    math/stats\n",
      "     updated_on     object                     discarded\n"
     ]
    }
   ],
   "source": [
    "# Anaylsis\n",
    "formats = [\"%15s\", \"%10s\", \"%10s\", \"%18s\"]\n",
    "header_vals = (\"Feature Type\", \"Data Type\", \"Num Values\", \"Dynamic\")\n",
    "print_helper(header_vals, formats)\n",
    "\n",
    "for column in audio_feat_df.columns:\n",
    "    col_dtype = audio_feat_df[column].dtype\n",
    "    if col_dtype == \"float64\":\n",
    "        dynamic = \"math/stats\"\n",
    "        vals = (column, col_dtype, \"\", dynamic)\n",
    "        print_helper(vals, formats)\n",
    "        feature_dynamic[column] = dynamic\n",
    "    elif col_dtype == \"int64\":\n",
    "        print_ints(audio_feat_df, feature_dynamic, formats, column)\n",
    "    else:\n",
    "        dynamic = \"discarded\"\n",
    "        vals = (column, col_dtype, \"\", dynamic)\n",
    "        print_helper(vals, formats)\n",
    "        feature_dynamic[column] = dynamic\n",
    "\n",
    "# pprint dynamics for debugging\n",
    "# pp.pprint(feature_dynamic)"
   ]
  },
  {
   "cell_type": "markdown",
   "id": "0f918fb9",
   "metadata": {},
   "source": [
    "## Clean up\n",
    "* Find and List number of blank entries and outliers/errors\n",
    "* Take corrective actions and provide justification\n",
    "* Remove unnecessary features\n",
    "* If a categorical approach breakout the input features (X) from the output features (y)"
   ]
  },
  {
   "cell_type": "markdown",
   "id": "c679c5a8",
   "metadata": {},
   "source": [
    "### Since the objects \"isrc\" and \"updated_on\" provide no value, they will be eliminated from the analysis:"
   ]
  },
  {
   "cell_type": "code",
   "execution_count": 10,
   "id": "6b92cf9c",
   "metadata": {},
   "outputs": [
    {
     "data": {
      "text/html": [
       "<div>\n",
       "<style scoped>\n",
       "    .dataframe tbody tr th:only-of-type {\n",
       "        vertical-align: middle;\n",
       "    }\n",
       "\n",
       "    .dataframe tbody tr th {\n",
       "        vertical-align: top;\n",
       "    }\n",
       "\n",
       "    .dataframe thead th {\n",
       "        text-align: right;\n",
       "    }\n",
       "</style>\n",
       "<table border=\"1\" class=\"dataframe\">\n",
       "  <thead>\n",
       "    <tr style=\"text-align: right;\">\n",
       "      <th></th>\n",
       "      <th>acousticness</th>\n",
       "      <th>danceability</th>\n",
       "      <th>duration_ms</th>\n",
       "      <th>energy</th>\n",
       "      <th>instrumentalness</th>\n",
       "      <th>key</th>\n",
       "      <th>liveness</th>\n",
       "      <th>loudness</th>\n",
       "      <th>mode</th>\n",
       "      <th>speechiness</th>\n",
       "      <th>tempo</th>\n",
       "      <th>time_signature</th>\n",
       "      <th>valence</th>\n",
       "    </tr>\n",
       "  </thead>\n",
       "  <tbody>\n",
       "    <tr>\n",
       "      <th>0</th>\n",
       "      <td>0.906000</td>\n",
       "      <td>0.650</td>\n",
       "      <td>296733</td>\n",
       "      <td>0.350</td>\n",
       "      <td>0.775</td>\n",
       "      <td>3</td>\n",
       "      <td>0.1140</td>\n",
       "      <td>-11.777</td>\n",
       "      <td>1</td>\n",
       "      <td>0.0284</td>\n",
       "      <td>110</td>\n",
       "      <td>4</td>\n",
       "      <td>0.336</td>\n",
       "    </tr>\n",
       "    <tr>\n",
       "      <th>1</th>\n",
       "      <td>0.000950</td>\n",
       "      <td>0.621</td>\n",
       "      <td>191989</td>\n",
       "      <td>0.639</td>\n",
       "      <td>0.820</td>\n",
       "      <td>7</td>\n",
       "      <td>0.5060</td>\n",
       "      <td>-9.258</td>\n",
       "      <td>1</td>\n",
       "      <td>0.0775</td>\n",
       "      <td>140</td>\n",
       "      <td>4</td>\n",
       "      <td>0.346</td>\n",
       "    </tr>\n",
       "    <tr>\n",
       "      <th>2</th>\n",
       "      <td>0.031200</td>\n",
       "      <td>0.692</td>\n",
       "      <td>282904</td>\n",
       "      <td>0.980</td>\n",
       "      <td>0.866</td>\n",
       "      <td>9</td>\n",
       "      <td>0.0969</td>\n",
       "      <td>-9.952</td>\n",
       "      <td>1</td>\n",
       "      <td>0.0881</td>\n",
       "      <td>140</td>\n",
       "      <td>4</td>\n",
       "      <td>0.225</td>\n",
       "    </tr>\n",
       "    <tr>\n",
       "      <th>3</th>\n",
       "      <td>0.000558</td>\n",
       "      <td>0.516</td>\n",
       "      <td>197904</td>\n",
       "      <td>0.924</td>\n",
       "      <td>0.434</td>\n",
       "      <td>5</td>\n",
       "      <td>0.1530</td>\n",
       "      <td>-13.564</td>\n",
       "      <td>0</td>\n",
       "      <td>0.2200</td>\n",
       "      <td>148</td>\n",
       "      <td>4</td>\n",
       "      <td>0.204</td>\n",
       "    </tr>\n",
       "    <tr>\n",
       "      <th>4</th>\n",
       "      <td>0.009380</td>\n",
       "      <td>0.587</td>\n",
       "      <td>199471</td>\n",
       "      <td>0.910</td>\n",
       "      <td>0.804</td>\n",
       "      <td>0</td>\n",
       "      <td>0.5630</td>\n",
       "      <td>-10.552</td>\n",
       "      <td>1</td>\n",
       "      <td>0.0596</td>\n",
       "      <td>136</td>\n",
       "      <td>4</td>\n",
       "      <td>0.321</td>\n",
       "    </tr>\n",
       "  </tbody>\n",
       "</table>\n",
       "</div>"
      ],
      "text/plain": [
       "   acousticness  danceability  duration_ms  energy  instrumentalness  key  \\\n",
       "0      0.906000         0.650       296733   0.350             0.775    3   \n",
       "1      0.000950         0.621       191989   0.639             0.820    7   \n",
       "2      0.031200         0.692       282904   0.980             0.866    9   \n",
       "3      0.000558         0.516       197904   0.924             0.434    5   \n",
       "4      0.009380         0.587       199471   0.910             0.804    0   \n",
       "\n",
       "   liveness  loudness  mode  speechiness  tempo  time_signature  valence  \n",
       "0    0.1140   -11.777     1       0.0284    110               4    0.336  \n",
       "1    0.5060    -9.258     1       0.0775    140               4    0.346  \n",
       "2    0.0969    -9.952     1       0.0881    140               4    0.225  \n",
       "3    0.1530   -13.564     0       0.2200    148               4    0.204  \n",
       "4    0.5630   -10.552     1       0.0596    136               4    0.321  "
      ]
     },
     "execution_count": 10,
     "metadata": {},
     "output_type": "execute_result"
    }
   ],
   "source": [
    "audio_feat_df_removed = audio_feat_df.drop(\"isrc\", axis=1)\n",
    "audio_feat_df_removed = audio_feat_df_removed.drop(\"updated_on\", axis=1)\n",
    "\n",
    "audio_feat_df_removed.head()"
   ]
  },
  {
   "cell_type": "markdown",
   "id": "cec983f1",
   "metadata": {},
   "source": [
    "### Number of invalid entries will either be imputed with their mean or removed based on data type and number missing"
   ]
  },
  {
   "cell_type": "code",
   "execution_count": 11,
   "id": "7e10c900",
   "metadata": {},
   "outputs": [],
   "source": [
    "def print_num_invalid(dataframe):\n",
    "    formats = [\"%18s\", \"%15s\", \"%15s\", \"%15s\", \"%15s\", \"%15s\"]\n",
    "    header_vals = (\"Feature Type\", \"Data Type\", \"Num Null\", \"Perc Null\", \"Num NA\", \"Perc NA\")\n",
    "    print_helper(header_vals, formats)\n",
    "    for column in dataframe.columns:\n",
    "\n",
    "        col_dtype = dataframe[column].dtype\n",
    "\n",
    "        num_null = dataframe[column].isnull().sum()\n",
    "        perc_null = round(num_null/len(dataframe), 2)\n",
    "\n",
    "        num_na = dataframe[column].isna().sum()\n",
    "        perc_na = round(num_na/len(dataframe), 2)\n",
    "                           \n",
    "        vals = (column, col_dtype, str(num_null), str(perc_null), str(num_na), str(perc_na))\n",
    "\n",
    "        print_helper(vals, formats)\n",
    "    return"
   ]
  },
  {
   "cell_type": "markdown",
   "id": "7002e5dc",
   "metadata": {},
   "source": [
    "### First the number of blanks and NAs will be checked for each column in the dataset\n",
    "\n",
    "Check number invalid"
   ]
  },
  {
   "cell_type": "code",
   "execution_count": 12,
   "id": "7b13c039",
   "metadata": {},
   "outputs": [
    {
     "name": "stdout",
     "output_type": "stream",
     "text": [
      "      Feature Type       Data Type        Num Null       Perc Null          Num NA         Perc NA\n",
      "      acousticness         float64               0             0.0               0             0.0\n",
      "      danceability         float64               0             0.0               0             0.0\n",
      "       duration_ms           int64               0             0.0               0             0.0\n",
      "            energy         float64               0             0.0               0             0.0\n",
      "  instrumentalness         float64               0             0.0               0             0.0\n",
      "               key           int64               0             0.0               0             0.0\n",
      "          liveness         float64               0             0.0               0             0.0\n",
      "          loudness         float64               0             0.0               0             0.0\n",
      "              mode           int64               0             0.0               0             0.0\n",
      "       speechiness         float64               0             0.0               0             0.0\n",
      "             tempo           int64               0             0.0               0             0.0\n",
      "    time_signature           int64               0             0.0               0             0.0\n",
      "           valence         float64               0             0.0               0             0.0\n"
     ]
    }
   ],
   "source": [
    "print_num_invalid(audio_feat_df_removed)"
   ]
  },
  {
   "cell_type": "markdown",
   "id": "c755d081",
   "metadata": {},
   "source": [
    "### Since no blanks exist, random nans will be installed for each feature\n",
    "\n",
    "Pandas treats nans and nulls exactly the same, so only the nans will be set."
   ]
  },
  {
   "cell_type": "markdown",
   "id": "b6651b5b",
   "metadata": {},
   "source": [
    "Helper function to set random samples of column to nan"
   ]
  },
  {
   "cell_type": "code",
   "execution_count": 13,
   "id": "e006986d",
   "metadata": {},
   "outputs": [],
   "source": [
    "def set_random(dataframe, column, num_random_samples, random_type):\n",
    "    random_samples = dataframe[column].sample(n=num_random_samples).index\n",
    "    dataframe[column].loc[random_samples] = random_type\n",
    "    return dataframe"
   ]
  },
  {
   "cell_type": "markdown",
   "id": "c8a52391",
   "metadata": {},
   "source": [
    "Loops over all columns and sets a random number of each to nan"
   ]
  },
  {
   "cell_type": "code",
   "execution_count": 14,
   "id": "2813b8fa",
   "metadata": {},
   "outputs": [],
   "source": [
    "def randomize_blanks_nas(audio_feat_df_invalids, max_random_nans):\n",
    "    for column in audio_feat_df_invalids.columns:\n",
    "        num_nans = random.randint(0, max_random_nans)\n",
    "        col_dtype = audio_feat_df_invalids[column].dtype\n",
    "        audio_feat_df_invalids = set_random(audio_feat_df_invalids, column, num_nans, np.nan)\n",
    "    return audio_feat_df_invalids"
   ]
  },
  {
   "cell_type": "markdown",
   "id": "239b56a7",
   "metadata": {},
   "source": [
    "### Set random number of each column to NAN"
   ]
  },
  {
   "cell_type": "code",
   "execution_count": 40,
   "id": "9b8496cf",
   "metadata": {},
   "outputs": [],
   "source": [
    "# Set max random amount of nan inserts\n",
    "max_random_nan_perc = .07 # Percent of data that will be set to nan\n",
    "max_random_nans = int(max_random_nan_perc*len(audio_feat_df_removed))\n",
    "\n",
    "audio_feat_df_invalids = audio_feat_df_removed.copy(deep=True)\n",
    "audio_feat_df_invalids = randomize_blanks_nas(audio_feat_df_invalids, max_random_nans)"
   ]
  },
  {
   "cell_type": "code",
   "execution_count": 16,
   "id": "99f88a9c",
   "metadata": {},
   "outputs": [
    {
     "name": "stdout",
     "output_type": "stream",
     "text": [
      "      Feature Type       Data Type        Num Null       Perc Null          Num NA         Perc NA\n",
      "      acousticness         float64            4565             0.0            4565             0.0\n",
      "      danceability         float64           63485            0.06           63485            0.06\n",
      "       duration_ms         float64           26168            0.02           26168            0.02\n",
      "            energy         float64            7981            0.01            7981            0.01\n",
      "  instrumentalness         float64           21736            0.02           21736            0.02\n",
      "               key         float64           28209            0.03           28209            0.03\n",
      "          liveness         float64           48717            0.05           48717            0.05\n",
      "          loudness         float64           30443            0.03           30443            0.03\n",
      "              mode         float64            3474             0.0            3474             0.0\n",
      "       speechiness         float64            8755            0.01            8755            0.01\n",
      "             tempo         float64           71669            0.07           71669            0.07\n",
      "    time_signature         float64           15499            0.01           15499            0.01\n",
      "           valence         float64           53385            0.05           53385            0.05\n"
     ]
    }
   ],
   "source": [
    "print_num_invalid(audio_feat_df_invalids)"
   ]
  },
  {
   "cell_type": "markdown",
   "id": "6cb58c90",
   "metadata": {},
   "source": [
    "### Now NANS are set, the math/stats dynamic columns with <5% NANS will be imputed with the features mean. Columns >5% will have their NA rows discarded"
   ]
  },
  {
   "cell_type": "code",
   "execution_count": 17,
   "id": "3fb884f6",
   "metadata": {},
   "outputs": [],
   "source": [
    "def discard_below_thresh(dataframe, feature_dynamic, perc_thresh):\n",
    "    \n",
    "    decision = {}\n",
    "    columns = dataframe.columns\n",
    "    num_non_empty = perc_thresh*len(dataframe)\n",
    "\n",
    "    for column in dataframe.columns:\n",
    "        perc_na = dataframe[column].isnull().sum()/len(dataframe)\n",
    "        if perc_na > perc_thresh:\n",
    "            dataframe = dataframe[dataframe[column].notna()]\n",
    "            decision[column] = \"NA Columns removed\"\n",
    "        else:\n",
    "            decision[column] = \"NA Columns not removed\"\n",
    "\n",
    "    return dataframe, decision"
   ]
  },
  {
   "cell_type": "markdown",
   "id": "610bc107",
   "metadata": {},
   "source": [
    "### Impute the math/stats dynamic columns with <5% NANS with mean value. Impute the categorical dynamic columns <5% with the majority class"
   ]
  },
  {
   "cell_type": "code",
   "execution_count": 18,
   "id": "f460bfc9",
   "metadata": {},
   "outputs": [],
   "source": [
    "def impute_mean_or_maj(dataframe, feature_dynamic, perc_thresh):\n",
    "    \n",
    "    decision = {}\n",
    "    columns = dataframe.columns\n",
    "    num_non_empty = perc_thresh*len(dataframe)\n",
    "    \n",
    "    for column in dataframe.columns:\n",
    "\n",
    "        if feature_dynamic[column] in [\"math/stats\"]:\n",
    "            \n",
    "            num_imputed = dataframe[column].isnull().sum()\n",
    "            col_dtype = dataframe[column].dtype\n",
    "            col_mean = dataframe[column].mean()\n",
    "\n",
    "            dataframe[column].fillna(value=col_mean, inplace=True)\n",
    "            decision[column] = str(num_imputed) + \" imputed with mean\"\n",
    "\n",
    "        # Impute majority class into categorical features\n",
    "        elif feature_dynamic[column] in [\"categorical\"]:\n",
    "            num_imputed = dataframe[column].isnull().sum()\n",
    "            cat_counts = dataframe[column].value_counts()\n",
    "            maj_count = cat_counts[0]\n",
    "            dataframe[column].fillna(value=maj_count, inplace=True)\n",
    "            decision[column] = str(num_imputed) + \" imputed with majority class\"\n",
    "\n",
    "    return dataframe, decision"
   ]
  },
  {
   "cell_type": "code",
   "execution_count": 19,
   "id": "19d50761",
   "metadata": {},
   "outputs": [
    {
     "name": "stdout",
     "output_type": "stream",
     "text": [
      "Removing Columns\n",
      "{   'acousticness': 'NA Columns not removed',\n",
      "    'danceability': 'NA Columns removed',\n",
      "    'duration_ms': 'NA Columns not removed',\n",
      "    'energy': 'NA Columns not removed',\n",
      "    'instrumentalness': 'NA Columns not removed',\n",
      "    'key': 'NA Columns not removed',\n",
      "    'liveness': 'NA Columns not removed',\n",
      "    'loudness': 'NA Columns not removed',\n",
      "    'mode': 'NA Columns not removed',\n",
      "    'speechiness': 'NA Columns not removed',\n",
      "    'tempo': 'NA Columns removed',\n",
      "    'time_signature': 'NA Columns not removed',\n",
      "    'valence': 'NA Columns removed'}\n",
      "177585 rows removed!\n",
      "\n",
      "\n",
      "{   'acousticness': '3781 imputed with mean',\n",
      "    'danceability': '0 imputed with mean',\n",
      "    'duration_ms': '21695 imputed with mean',\n",
      "    'energy': '6696 imputed with mean',\n",
      "    'instrumentalness': '18032 imputed with mean',\n",
      "    'key': '23491 imputed with majority class',\n",
      "    'liveness': '40526 imputed with mean',\n",
      "    'loudness': '25390 imputed with mean',\n",
      "    'mode': '2905 imputed with majority class',\n",
      "    'speechiness': '7243 imputed with mean',\n",
      "    'tempo': '0 imputed with mean',\n",
      "    'time_signature': '12829 imputed with majority class',\n",
      "    'valence': '0 imputed with mean'}\n"
     ]
    }
   ],
   "source": [
    "# Define decision dictionary\n",
    "decision = {}\n",
    "\n",
    "# Copy current DF \n",
    "audio_feat_df_invalids_copy = audio_feat_df_invalids.copy(deep=True)\n",
    "\n",
    "# Discard rows with NANs >5% for a feature\n",
    "perc_thresh = 0.05\n",
    "print(\"Removing Columns\")\n",
    "audio_feat_df_invalids_copy, decision = discard_below_thresh(audio_feat_df_invalids_copy, feature_dynamic, perc_thresh)\n",
    "pp.pprint(decision)\n",
    "num_removed = len(audio_feat_df_invalids) - len(audio_feat_df_invalids_copy)\n",
    "print(str(num_removed) + \" rows removed!\")\n",
    "print(\"\\n\")\n",
    "\n",
    "# Impute rows with NANs <5% with a feature's mean or majority class\n",
    "audio_feat_df_invalids_copy, decision = impute_mean_or_maj(audio_feat_df_invalids_copy, feature_dynamic, perc_thresh)\n",
    "pp.pprint(decision)"
   ]
  },
  {
   "cell_type": "markdown",
   "id": "d7895ccc",
   "metadata": {},
   "source": [
    "# Find Outliers\n",
    "## Remove top and bottom 1% of values for math/stats dynamic features"
   ]
  },
  {
   "cell_type": "code",
   "execution_count": 20,
   "id": "4163a189",
   "metadata": {},
   "outputs": [],
   "source": [
    "def remove_outliers(dataframe, feature_dynamic, outlier_perc_thresh, exclusions=[]):\n",
    "    \n",
    "    decision = {}\n",
    "    columns = dataframe.columns\n",
    "    num_non_empty = perc_thresh*len(dataframe)\n",
    "    \n",
    "    for column in dataframe.columns:\n",
    "\n",
    "        orig_num = len(dataframe)\n",
    "        if column in exclusions:\n",
    "            continue\n",
    "\n",
    "        if feature_dynamic[column] in [\"math/stats\"]:\n",
    "            \n",
    "            max_val = dataframe[column].max()\n",
    "            min_val = dataframe[column].max()\n",
    "        \n",
    "            bottom_percent = outlier_perc_thresh*min_val\n",
    "            top_percent = max_val - outlier_perc_thresh*max_val\n",
    "\n",
    "            dataframe = dataframe[dataframe[column] < top_percent]\n",
    "            dataframe = dataframe[dataframe[column] > bottom_percent]\n",
    "            \n",
    "            num_removed = orig_num - len(dataframe)\n",
    "            \n",
    "            decision[column] = str(num_removed) + \" removed as outliers from top and bottom\"\n",
    "           \n",
    "            \n",
    "    return dataframe, decision\n",
    "    "
   ]
  },
  {
   "cell_type": "code",
   "execution_count": 21,
   "id": "376d21dd",
   "metadata": {},
   "outputs": [
    {
     "name": "stdout",
     "output_type": "stream",
     "text": [
      "{   'acousticness': '457791 removed as outliers from top and bottom',\n",
      "    'danceability': '402 removed as outliers from top and bottom',\n",
      "    'duration_ms': '6136 removed as outliers from top and bottom',\n",
      "    'energy': '7033 removed as outliers from top and bottom',\n",
      "    'instrumentalness': '71592 removed as outliers from top and bottom',\n",
      "    'liveness': '22 removed as outliers from top and bottom',\n",
      "    'loudness': '327871 removed as outliers from top and bottom',\n",
      "    'speechiness': '1 removed as outliers from top and bottom',\n",
      "    'tempo': '1 removed as outliers from top and bottom',\n",
      "    'valence': '2 removed as outliers from top and bottom'}\n"
     ]
    }
   ],
   "source": [
    "# Remove 1% top and bottom outliers from math/stats dynamic features\n",
    "audio_feat_df_outliers_removed = audio_feat_df_invalids_copy.copy(deep=True)\n",
    "outlier_perc_thresh = .01\n",
    "audio_feat_df_outliers_removed, decision = remove_outliers(audio_feat_df_outliers_removed, feature_dynamic, outlier_perc_thresh)\n",
    "\n",
    "pp.pprint(decision)"
   ]
  },
  {
   "cell_type": "markdown",
   "id": "cc706468",
   "metadata": {},
   "source": [
    "There is some skewness going on with the removals performed on some of the features, investigating the histograms:"
   ]
  },
  {
   "cell_type": "code",
   "execution_count": 22,
   "id": "8c1574e8",
   "metadata": {},
   "outputs": [
    {
     "data": {
      "image/png": "[encoded data removed]",
      "text/plain": [
       "<Figure size 432x288 with 1 Axes>"
      ]
     },
     "metadata": {
      "needs_background": "light"
     },
     "output_type": "display_data"
    },
    {
     "data": {
      "image/png": "[encoded data removed]",
      "text/plain": [
       "<Figure size 432x288 with 1 Axes>"
      ]
     },
     "metadata": {
      "needs_background": "light"
     },
     "output_type": "display_data"
    },
    {
     "data": {
      "image/png": "[encoded data removed]",
      "text/plain": [
       "<Figure size 432x288 with 1 Axes>"
      ]
     },
     "metadata": {
      "needs_background": "light"
     },
     "output_type": "display_data"
    },
    {
     "data": {
      "image/png": "[encoded data removed]",
      "text/plain": [
       "<Figure size 432x288 with 1 Axes>"
      ]
     },
     "metadata": {
      "needs_background": "light"
     },
     "output_type": "display_data"
    }
   ],
   "source": [
    "acousticness_hist = audio_feat_df_invalids_copy.hist(column=\"acousticness\", bins=50)\n",
    "instrumentalness_hist = audio_feat_df_invalids_copy.hist(column=\"instrumentalness\", bins=50)\n",
    "loudness_hist = audio_feat_df_invalids_copy.hist(column=\"loudness\", bins=50)\n",
    "energy_hist = audio_feat_df_invalids_copy.hist(column=\"energy\", bins=50)"
   ]
  },
  {
   "cell_type": "markdown",
   "id": "6269bf1a",
   "metadata": {},
   "source": [
    "Since these features are highly skewed, the top 1% and bottom 1% won't be removed. Columns are reverted back to their original:"
   ]
  },
  {
   "cell_type": "code",
   "execution_count": 23,
   "id": "240fb90c",
   "metadata": {},
   "outputs": [
    {
     "name": "stdout",
     "output_type": "stream",
     "text": [
      "{   'danceability': '665 removed as outliers from top and bottom',\n",
      "    'duration_ms': '8323 removed as outliers from top and bottom',\n",
      "    'liveness': '51 removed as outliers from top and bottom',\n",
      "    'speechiness': '10 removed as outliers from top and bottom',\n",
      "    'tempo': '292 removed as outliers from top and bottom',\n",
      "    'valence': '272 removed as outliers from top and bottom'}\n"
     ]
    }
   ],
   "source": [
    "exclusions = [\"acousticness\", \"instrumentalness\", \"loudness\", \"energy\"]\n",
    "\n",
    "audio_feat_df_outliers_removed = audio_feat_df_invalids_copy.copy(deep=True)\n",
    "outlier_perc_thresh = .01\n",
    "audio_feat_df_outliers_removed, decision = remove_outliers(audio_feat_df_outliers_removed, feature_dynamic, outlier_perc_thresh, exclusions)\n",
    "\n",
    "pp.pprint(decision)"
   ]
  },
  {
   "cell_type": "code",
   "execution_count": 24,
   "id": "0e193066",
   "metadata": {},
   "outputs": [
    {
     "data": {
      "text/html": [
       "<div>\n",
       "<style scoped>\n",
       "    .dataframe tbody tr th:only-of-type {\n",
       "        vertical-align: middle;\n",
       "    }\n",
       "\n",
       "    .dataframe tbody tr th {\n",
       "        vertical-align: top;\n",
       "    }\n",
       "\n",
       "    .dataframe thead th {\n",
       "        text-align: right;\n",
       "    }\n",
       "</style>\n",
       "<table border=\"1\" class=\"dataframe\">\n",
       "  <thead>\n",
       "    <tr style=\"text-align: right;\">\n",
       "      <th></th>\n",
       "      <th>acousticness</th>\n",
       "      <th>danceability</th>\n",
       "      <th>duration_ms</th>\n",
       "      <th>energy</th>\n",
       "      <th>instrumentalness</th>\n",
       "      <th>key</th>\n",
       "      <th>liveness</th>\n",
       "      <th>loudness</th>\n",
       "      <th>mode</th>\n",
       "      <th>speechiness</th>\n",
       "      <th>tempo</th>\n",
       "      <th>time_signature</th>\n",
       "      <th>valence</th>\n",
       "    </tr>\n",
       "  </thead>\n",
       "  <tbody>\n",
       "    <tr>\n",
       "      <th>0</th>\n",
       "      <td>0.906000</td>\n",
       "      <td>0.650</td>\n",
       "      <td>296733.0</td>\n",
       "      <td>0.350</td>\n",
       "      <td>0.775</td>\n",
       "      <td>3.0</td>\n",
       "      <td>0.1140</td>\n",
       "      <td>-11.777</td>\n",
       "      <td>1.0</td>\n",
       "      <td>0.0284</td>\n",
       "      <td>110.0</td>\n",
       "      <td>4.0</td>\n",
       "      <td>0.336</td>\n",
       "    </tr>\n",
       "    <tr>\n",
       "      <th>1</th>\n",
       "      <td>0.000950</td>\n",
       "      <td>0.621</td>\n",
       "      <td>191989.0</td>\n",
       "      <td>0.639</td>\n",
       "      <td>0.820</td>\n",
       "      <td>7.0</td>\n",
       "      <td>0.5060</td>\n",
       "      <td>-9.258</td>\n",
       "      <td>1.0</td>\n",
       "      <td>0.0775</td>\n",
       "      <td>140.0</td>\n",
       "      <td>4.0</td>\n",
       "      <td>0.346</td>\n",
       "    </tr>\n",
       "    <tr>\n",
       "      <th>2</th>\n",
       "      <td>0.031200</td>\n",
       "      <td>0.692</td>\n",
       "      <td>282904.0</td>\n",
       "      <td>0.980</td>\n",
       "      <td>0.866</td>\n",
       "      <td>9.0</td>\n",
       "      <td>0.0969</td>\n",
       "      <td>-9.952</td>\n",
       "      <td>1.0</td>\n",
       "      <td>0.0881</td>\n",
       "      <td>140.0</td>\n",
       "      <td>4.0</td>\n",
       "      <td>0.225</td>\n",
       "    </tr>\n",
       "    <tr>\n",
       "      <th>3</th>\n",
       "      <td>0.000558</td>\n",
       "      <td>0.516</td>\n",
       "      <td>197904.0</td>\n",
       "      <td>0.924</td>\n",
       "      <td>0.434</td>\n",
       "      <td>5.0</td>\n",
       "      <td>0.1530</td>\n",
       "      <td>-13.564</td>\n",
       "      <td>0.0</td>\n",
       "      <td>0.2200</td>\n",
       "      <td>148.0</td>\n",
       "      <td>4.0</td>\n",
       "      <td>0.204</td>\n",
       "    </tr>\n",
       "    <tr>\n",
       "      <th>4</th>\n",
       "      <td>0.009380</td>\n",
       "      <td>0.587</td>\n",
       "      <td>199471.0</td>\n",
       "      <td>0.910</td>\n",
       "      <td>0.804</td>\n",
       "      <td>0.0</td>\n",
       "      <td>0.5630</td>\n",
       "      <td>-10.552</td>\n",
       "      <td>1.0</td>\n",
       "      <td>0.0596</td>\n",
       "      <td>136.0</td>\n",
       "      <td>4.0</td>\n",
       "      <td>0.321</td>\n",
       "    </tr>\n",
       "  </tbody>\n",
       "</table>\n",
       "</div>"
      ],
      "text/plain": [
       "   acousticness  danceability  duration_ms  energy  instrumentalness  key  \\\n",
       "0      0.906000         0.650     296733.0   0.350             0.775  3.0   \n",
       "1      0.000950         0.621     191989.0   0.639             0.820  7.0   \n",
       "2      0.031200         0.692     282904.0   0.980             0.866  9.0   \n",
       "3      0.000558         0.516     197904.0   0.924             0.434  5.0   \n",
       "4      0.009380         0.587     199471.0   0.910             0.804  0.0   \n",
       "\n",
       "   liveness  loudness  mode  speechiness  tempo  time_signature  valence  \n",
       "0    0.1140   -11.777   1.0       0.0284  110.0             4.0    0.336  \n",
       "1    0.5060    -9.258   1.0       0.0775  140.0             4.0    0.346  \n",
       "2    0.0969    -9.952   1.0       0.0881  140.0             4.0    0.225  \n",
       "3    0.1530   -13.564   0.0       0.2200  148.0             4.0    0.204  \n",
       "4    0.5630   -10.552   1.0       0.0596  136.0             4.0    0.321  "
      ]
     },
     "execution_count": 24,
     "metadata": {},
     "output_type": "execute_result"
    }
   ],
   "source": [
    "audio_feat_df_outliers_removed.head()"
   ]
  },
  {
   "cell_type": "markdown",
   "id": "06284a4d",
   "metadata": {},
   "source": [
    "## Normalize\n",
    "Dont worry about text features but you must normalize the numeric features. \n",
    "* Provide rationale as to why the particular normalization feature was selected."
   ]
  },
  {
   "cell_type": "code",
   "execution_count": 25,
   "id": "ed2985af",
   "metadata": {},
   "outputs": [],
   "source": [
    "def normalize_features(dataframe, feature_dynamic):\n",
    "    \n",
    "    decision = {}\n",
    "    columns = dataframe.columns\n",
    "    num_non_empty = perc_thresh*len(dataframe)\n",
    "    \n",
    "    for column in dataframe.columns:\n",
    "        orig_num = len(dataframe)\n",
    "        if feature_dynamic[column] in [\"math/stats\"]:\n",
    "            dataframe[column] = (dataframe[column]-dataframe[column].mean())/dataframe[column].std()\n",
    "            decision[column] = column + \" normalized\"\n",
    "\n",
    "    return dataframe, decision"
   ]
  },
  {
   "cell_type": "code",
   "execution_count": 26,
   "id": "395a0c0d",
   "metadata": {},
   "outputs": [
    {
     "name": "stdout",
     "output_type": "stream",
     "text": [
      "{   'acousticness': 'acousticness normalized',\n",
      "    'danceability': 'danceability normalized',\n",
      "    'duration_ms': 'duration_ms normalized',\n",
      "    'energy': 'energy normalized',\n",
      "    'instrumentalness': 'instrumentalness normalized',\n",
      "    'liveness': 'liveness normalized',\n",
      "    'loudness': 'loudness normalized',\n",
      "    'speechiness': 'speechiness normalized',\n",
      "    'tempo': 'tempo normalized',\n",
      "    'valence': 'valence normalized'}\n"
     ]
    },
    {
     "data": {
      "text/html": [
       "<div>\n",
       "<style scoped>\n",
       "    .dataframe tbody tr th:only-of-type {\n",
       "        vertical-align: middle;\n",
       "    }\n",
       "\n",
       "    .dataframe tbody tr th {\n",
       "        vertical-align: top;\n",
       "    }\n",
       "\n",
       "    .dataframe thead th {\n",
       "        text-align: right;\n",
       "    }\n",
       "</style>\n",
       "<table border=\"1\" class=\"dataframe\">\n",
       "  <thead>\n",
       "    <tr style=\"text-align: right;\">\n",
       "      <th></th>\n",
       "      <th>acousticness</th>\n",
       "      <th>danceability</th>\n",
       "      <th>duration_ms</th>\n",
       "      <th>energy</th>\n",
       "      <th>instrumentalness</th>\n",
       "      <th>key</th>\n",
       "      <th>liveness</th>\n",
       "      <th>loudness</th>\n",
       "      <th>mode</th>\n",
       "      <th>speechiness</th>\n",
       "      <th>tempo</th>\n",
       "      <th>time_signature</th>\n",
       "      <th>valence</th>\n",
       "    </tr>\n",
       "  </thead>\n",
       "  <tbody>\n",
       "    <tr>\n",
       "      <th>0</th>\n",
       "      <td>3.472355</td>\n",
       "      <td>-0.219081</td>\n",
       "      <td>-0.150923</td>\n",
       "      <td>-1.714400</td>\n",
       "      <td>0.410884</td>\n",
       "      <td>3.0</td>\n",
       "      <td>-0.386580</td>\n",
       "      <td>-0.640781</td>\n",
       "      <td>1.0</td>\n",
       "      <td>-0.692515</td>\n",
       "      <td>-0.804104</td>\n",
       "      <td>4.0</td>\n",
       "      <td>-0.279597</td>\n",
       "    </tr>\n",
       "    <tr>\n",
       "      <th>1</th>\n",
       "      <td>-0.484005</td>\n",
       "      <td>-0.407643</td>\n",
       "      <td>-0.592619</td>\n",
       "      <td>-0.364096</td>\n",
       "      <td>0.544642</td>\n",
       "      <td>7.0</td>\n",
       "      <td>2.009783</td>\n",
       "      <td>-0.041287</td>\n",
       "      <td>1.0</td>\n",
       "      <td>-0.098111</td>\n",
       "      <td>0.674648</td>\n",
       "      <td>4.0</td>\n",
       "      <td>-0.240773</td>\n",
       "    </tr>\n",
       "    <tr>\n",
       "      <th>2</th>\n",
       "      <td>-0.351769</td>\n",
       "      <td>0.054009</td>\n",
       "      <td>-0.209239</td>\n",
       "      <td>1.229170</td>\n",
       "      <td>0.681372</td>\n",
       "      <td>9.0</td>\n",
       "      <td>-0.491115</td>\n",
       "      <td>-0.206451</td>\n",
       "      <td>1.0</td>\n",
       "      <td>0.030212</td>\n",
       "      <td>0.674648</td>\n",
       "      <td>4.0</td>\n",
       "      <td>-0.710549</td>\n",
       "    </tr>\n",
       "    <tr>\n",
       "      <th>3</th>\n",
       "      <td>-0.485718</td>\n",
       "      <td>-1.090368</td>\n",
       "      <td>-0.567676</td>\n",
       "      <td>0.967520</td>\n",
       "      <td>-0.602699</td>\n",
       "      <td>5.0</td>\n",
       "      <td>-0.148166</td>\n",
       "      <td>-1.066068</td>\n",
       "      <td>0.0</td>\n",
       "      <td>1.626990</td>\n",
       "      <td>1.068982</td>\n",
       "      <td>4.0</td>\n",
       "      <td>-0.792081</td>\n",
       "    </tr>\n",
       "    <tr>\n",
       "      <th>4</th>\n",
       "      <td>-0.447153</td>\n",
       "      <td>-0.628716</td>\n",
       "      <td>-0.561068</td>\n",
       "      <td>0.902107</td>\n",
       "      <td>0.497084</td>\n",
       "      <td>0.0</td>\n",
       "      <td>2.358234</td>\n",
       "      <td>-0.349245</td>\n",
       "      <td>1.0</td>\n",
       "      <td>-0.314808</td>\n",
       "      <td>0.477481</td>\n",
       "      <td>4.0</td>\n",
       "      <td>-0.337834</td>\n",
       "    </tr>\n",
       "  </tbody>\n",
       "</table>\n",
       "</div>"
      ],
      "text/plain": [
       "   acousticness  danceability  duration_ms    energy  instrumentalness  key  \\\n",
       "0      3.472355     -0.219081    -0.150923 -1.714400          0.410884  3.0   \n",
       "1     -0.484005     -0.407643    -0.592619 -0.364096          0.544642  7.0   \n",
       "2     -0.351769      0.054009    -0.209239  1.229170          0.681372  9.0   \n",
       "3     -0.485718     -1.090368    -0.567676  0.967520         -0.602699  5.0   \n",
       "4     -0.447153     -0.628716    -0.561068  0.902107          0.497084  0.0   \n",
       "\n",
       "   liveness  loudness  mode  speechiness     tempo  time_signature   valence  \n",
       "0 -0.386580 -0.640781   1.0    -0.692515 -0.804104             4.0 -0.279597  \n",
       "1  2.009783 -0.041287   1.0    -0.098111  0.674648             4.0 -0.240773  \n",
       "2 -0.491115 -0.206451   1.0     0.030212  0.674648             4.0 -0.710549  \n",
       "3 -0.148166 -1.066068   0.0     1.626990  1.068982             4.0 -0.792081  \n",
       "4  2.358234 -0.349245   1.0    -0.314808  0.477481             4.0 -0.337834  "
      ]
     },
     "execution_count": 26,
     "metadata": {},
     "output_type": "execute_result"
    }
   ],
   "source": [
    "# Normalize math/stats features\n",
    "normalized_audio_feat_df = audio_feat_df_outliers_removed.copy(deep=True)\n",
    "\n",
    "normalized_audio_feat_df, decision = normalize_features(normalized_audio_feat_df, feature_dynamic)\n",
    "\n",
    "pp.pprint(decision)\n",
    "\n",
    "normalized_audio_feat_df.head()"
   ]
  },
  {
   "cell_type": "markdown",
   "id": "980837e8",
   "metadata": {},
   "source": [
    "All the non-categorical numeric data columns are chosen to be normalized. This is so no numeric feature truncates the others from having a higher value."
   ]
  },
  {
   "cell_type": "markdown",
   "id": "5da44f3c",
   "metadata": {},
   "source": [
    "## Feature and Label Selection\n",
    "Down select from your data, the input features and label(s)\n",
    "\n",
    "The feature chosen as the label will be mode. This indicates that the song is major or minor."
   ]
  },
  {
   "cell_type": "code",
   "execution_count": 27,
   "id": "fc165afd",
   "metadata": {},
   "outputs": [],
   "source": [
    "# Set up the input features (X) and the assocated label(s) (y)\n",
    "labels = normalized_audio_feat_df.loc[:, ['mode']]\n",
    "features = normalized_audio_feat_df.drop(\"mode\", axis = 1)"
   ]
  },
  {
   "cell_type": "code",
   "execution_count": 28,
   "id": "e92849e5",
   "metadata": {},
   "outputs": [
    {
     "data": {
      "text/html": [
       "<div>\n",
       "<style scoped>\n",
       "    .dataframe tbody tr th:only-of-type {\n",
       "        vertical-align: middle;\n",
       "    }\n",
       "\n",
       "    .dataframe tbody tr th {\n",
       "        vertical-align: top;\n",
       "    }\n",
       "\n",
       "    .dataframe thead th {\n",
       "        text-align: right;\n",
       "    }\n",
       "</style>\n",
       "<table border=\"1\" class=\"dataframe\">\n",
       "  <thead>\n",
       "    <tr style=\"text-align: right;\">\n",
       "      <th></th>\n",
       "      <th>mode</th>\n",
       "    </tr>\n",
       "  </thead>\n",
       "  <tbody>\n",
       "    <tr>\n",
       "      <th>0</th>\n",
       "      <td>1.0</td>\n",
       "    </tr>\n",
       "    <tr>\n",
       "      <th>1</th>\n",
       "      <td>1.0</td>\n",
       "    </tr>\n",
       "    <tr>\n",
       "      <th>2</th>\n",
       "      <td>1.0</td>\n",
       "    </tr>\n",
       "    <tr>\n",
       "      <th>3</th>\n",
       "      <td>0.0</td>\n",
       "    </tr>\n",
       "    <tr>\n",
       "      <th>4</th>\n",
       "      <td>1.0</td>\n",
       "    </tr>\n",
       "  </tbody>\n",
       "</table>\n",
       "</div>"
      ],
      "text/plain": [
       "   mode\n",
       "0   1.0\n",
       "1   1.0\n",
       "2   1.0\n",
       "3   0.0\n",
       "4   1.0"
      ]
     },
     "execution_count": 28,
     "metadata": {},
     "output_type": "execute_result"
    }
   ],
   "source": [
    "labels.head()"
   ]
  },
  {
   "cell_type": "code",
   "execution_count": 29,
   "id": "5801f904",
   "metadata": {},
   "outputs": [
    {
     "name": "stdout",
     "output_type": "stream",
     "text": [
      "Length of label: 861377\n"
     ]
    }
   ],
   "source": [
    "print(\"Length of label: \" + str(len(labels)))"
   ]
  },
  {
   "cell_type": "code",
   "execution_count": 30,
   "id": "00b06f26",
   "metadata": {},
   "outputs": [
    {
     "data": {
      "text/html": [
       "<div>\n",
       "<style scoped>\n",
       "    .dataframe tbody tr th:only-of-type {\n",
       "        vertical-align: middle;\n",
       "    }\n",
       "\n",
       "    .dataframe tbody tr th {\n",
       "        vertical-align: top;\n",
       "    }\n",
       "\n",
       "    .dataframe thead th {\n",
       "        text-align: right;\n",
       "    }\n",
       "</style>\n",
       "<table border=\"1\" class=\"dataframe\">\n",
       "  <thead>\n",
       "    <tr style=\"text-align: right;\">\n",
       "      <th></th>\n",
       "      <th>acousticness</th>\n",
       "      <th>danceability</th>\n",
       "      <th>duration_ms</th>\n",
       "      <th>energy</th>\n",
       "      <th>instrumentalness</th>\n",
       "      <th>key</th>\n",
       "      <th>liveness</th>\n",
       "      <th>loudness</th>\n",
       "      <th>speechiness</th>\n",
       "      <th>tempo</th>\n",
       "      <th>time_signature</th>\n",
       "      <th>valence</th>\n",
       "    </tr>\n",
       "  </thead>\n",
       "  <tbody>\n",
       "    <tr>\n",
       "      <th>0</th>\n",
       "      <td>3.472355</td>\n",
       "      <td>-0.219081</td>\n",
       "      <td>-0.150923</td>\n",
       "      <td>-1.714400</td>\n",
       "      <td>0.410884</td>\n",
       "      <td>3.0</td>\n",
       "      <td>-0.386580</td>\n",
       "      <td>-0.640781</td>\n",
       "      <td>-0.692515</td>\n",
       "      <td>-0.804104</td>\n",
       "      <td>4.0</td>\n",
       "      <td>-0.279597</td>\n",
       "    </tr>\n",
       "    <tr>\n",
       "      <th>1</th>\n",
       "      <td>-0.484005</td>\n",
       "      <td>-0.407643</td>\n",
       "      <td>-0.592619</td>\n",
       "      <td>-0.364096</td>\n",
       "      <td>0.544642</td>\n",
       "      <td>7.0</td>\n",
       "      <td>2.009783</td>\n",
       "      <td>-0.041287</td>\n",
       "      <td>-0.098111</td>\n",
       "      <td>0.674648</td>\n",
       "      <td>4.0</td>\n",
       "      <td>-0.240773</td>\n",
       "    </tr>\n",
       "    <tr>\n",
       "      <th>2</th>\n",
       "      <td>-0.351769</td>\n",
       "      <td>0.054009</td>\n",
       "      <td>-0.209239</td>\n",
       "      <td>1.229170</td>\n",
       "      <td>0.681372</td>\n",
       "      <td>9.0</td>\n",
       "      <td>-0.491115</td>\n",
       "      <td>-0.206451</td>\n",
       "      <td>0.030212</td>\n",
       "      <td>0.674648</td>\n",
       "      <td>4.0</td>\n",
       "      <td>-0.710549</td>\n",
       "    </tr>\n",
       "    <tr>\n",
       "      <th>3</th>\n",
       "      <td>-0.485718</td>\n",
       "      <td>-1.090368</td>\n",
       "      <td>-0.567676</td>\n",
       "      <td>0.967520</td>\n",
       "      <td>-0.602699</td>\n",
       "      <td>5.0</td>\n",
       "      <td>-0.148166</td>\n",
       "      <td>-1.066068</td>\n",
       "      <td>1.626990</td>\n",
       "      <td>1.068982</td>\n",
       "      <td>4.0</td>\n",
       "      <td>-0.792081</td>\n",
       "    </tr>\n",
       "    <tr>\n",
       "      <th>4</th>\n",
       "      <td>-0.447153</td>\n",
       "      <td>-0.628716</td>\n",
       "      <td>-0.561068</td>\n",
       "      <td>0.902107</td>\n",
       "      <td>0.497084</td>\n",
       "      <td>0.0</td>\n",
       "      <td>2.358234</td>\n",
       "      <td>-0.349245</td>\n",
       "      <td>-0.314808</td>\n",
       "      <td>0.477481</td>\n",
       "      <td>4.0</td>\n",
       "      <td>-0.337834</td>\n",
       "    </tr>\n",
       "  </tbody>\n",
       "</table>\n",
       "</div>"
      ],
      "text/plain": [
       "   acousticness  danceability  duration_ms    energy  instrumentalness  key  \\\n",
       "0      3.472355     -0.219081    -0.150923 -1.714400          0.410884  3.0   \n",
       "1     -0.484005     -0.407643    -0.592619 -0.364096          0.544642  7.0   \n",
       "2     -0.351769      0.054009    -0.209239  1.229170          0.681372  9.0   \n",
       "3     -0.485718     -1.090368    -0.567676  0.967520         -0.602699  5.0   \n",
       "4     -0.447153     -0.628716    -0.561068  0.902107          0.497084  0.0   \n",
       "\n",
       "   liveness  loudness  speechiness     tempo  time_signature   valence  \n",
       "0 -0.386580 -0.640781    -0.692515 -0.804104             4.0 -0.279597  \n",
       "1  2.009783 -0.041287    -0.098111  0.674648             4.0 -0.240773  \n",
       "2 -0.491115 -0.206451     0.030212  0.674648             4.0 -0.710549  \n",
       "3 -0.148166 -1.066068     1.626990  1.068982             4.0 -0.792081  \n",
       "4  2.358234 -0.349245    -0.314808  0.477481             4.0 -0.337834  "
      ]
     },
     "execution_count": 30,
     "metadata": {},
     "output_type": "execute_result"
    }
   ],
   "source": [
    "features.head()"
   ]
  },
  {
   "cell_type": "code",
   "execution_count": 31,
   "id": "c284262c",
   "metadata": {},
   "outputs": [
    {
     "name": "stdout",
     "output_type": "stream",
     "text": [
      "Length of features: 861377\n"
     ]
    }
   ],
   "source": [
    "print(\"Length of features: \" + str(len(features)))"
   ]
  },
  {
   "cell_type": "markdown",
   "id": "f9d36108",
   "metadata": {},
   "source": [
    "## Split into 3 data sets for training, validation, and test (Explain your % for each)"
   ]
  },
  {
   "cell_type": "code",
   "execution_count": 32,
   "id": "7b30e473",
   "metadata": {},
   "outputs": [],
   "source": [
    "# Split into train/test/validation datasets\n",
    "validation_perc = .10 # 10% for validation split\n",
    "test__perc = .20      # 20% for test split\n",
    "\n",
    "feature_train, feature_val, label_train, label_val = train_test_split(features, labels, test_size= validation_perc)\n",
    "feature_train, feature_test, label_train, label_test = train_test_split(features, labels, test_size= test__perc)"
   ]
  },
  {
   "cell_type": "code",
   "execution_count": 33,
   "id": "9fb04dee",
   "metadata": {},
   "outputs": [
    {
     "name": "stdout",
     "output_type": "stream",
     "text": [
      "Num vals in feature train split = 689101\n",
      "Num vals in label train split = 689101\n"
     ]
    }
   ],
   "source": [
    "print(\"Num vals in feature train split = {}\".format(len(feature_train)))\n",
    "print(\"Num vals in label train split = {}\".format(len(label_train)))"
   ]
  },
  {
   "cell_type": "code",
   "execution_count": 34,
   "id": "5254d92f",
   "metadata": {},
   "outputs": [
    {
     "name": "stdout",
     "output_type": "stream",
     "text": [
      "Num vals in feature test split = 172276\n",
      "Num vals in label test split = 172276\n"
     ]
    }
   ],
   "source": [
    "print(\"Num vals in feature test split = {}\".format(len(feature_test)))\n",
    "print(\"Num vals in label test split = {}\".format(len(label_test)))"
   ]
  },
  {
   "cell_type": "code",
   "execution_count": 35,
   "id": "91b425da",
   "metadata": {},
   "outputs": [
    {
     "name": "stdout",
     "output_type": "stream",
     "text": [
      "Num vals in feature val split = 86138\n",
      "Num vals in label val split = 86138\n"
     ]
    }
   ],
   "source": [
    "print(\"Num vals in feature val split = {}\".format(len(feature_val)))\n",
    "print(\"Num vals in label val split = {}\".format(len(label_val)))"
   ]
  },
  {
   "cell_type": "markdown",
   "id": "7561e8ad",
   "metadata": {},
   "source": [
    "Normally k-fold validation is done over all the split folds. For each fold, train and test are split and the model is trained on the training folds while it is tested on the testing folds. Validation is chosen as a constant dataset which is the the smallest amount to validate certain models against the same set. For this, validation is chosen as 10%. In some cases where the datasets are small validation may be chosen as a smaller amount. 10% would be a good starting point for this dataset since there hundreds of thousands of rows. Test/Train are split 80/20, which is usually the standard starting point. This is why 80/20 was chosen for train/test split. In cases where data is not abundant, the test split can be lowered while increasing the number of folds. This allows a larger percentage for model training."
   ]
  },
  {
   "cell_type": "markdown",
   "id": "c7da54c5",
   "metadata": {},
   "source": [
    "## Summary\n",
    "# Provide your thoughts on the quality, amount, trustworthiness, diffencencies, timeliness, and available documentation on the data you selected.  This can be written and/or code to demonstrate your conclusions.\n",
    "* Determine if the data selected is suitable for a machine learning ingest.\n",
    "* Note there are other prepossessing steps depending on the data such as graphics, free form text, and graphs and/or the type of model such as a time series model.  These topics are covered in the upcoming modules."
   ]
  },
  {
   "cell_type": "markdown",
   "id": "016dd27f",
   "metadata": {},
   "source": [
    "# Summary\n",
    "The dataset chosen is a high quality data set where the features are all pulled from audio signals. This is the reason there is no missing data and missing data needed to be simulated for this exercise. The original dataset contains over a million analyzed audio files which would be a good basis for a machine learning model. The features are all numeric where even the classification fields can be represented by a number easily. There are certain features that contain quantified information that may be subjective such as \"danceability\". The effectiveness of features like this could use further validation. Additionally, exploration and model tuning would need to be done based on the feature inputs since some of the feature inputs were found to have skewed values. Correlation could also be explored to determine if any set of features provide duplicate information. T\n",
    "\n",
    "I would like to see more data pulled from the audio files. There is data contained within spectral transform that would provide value in the machine learning process. This is mentioned as to the authors desire to include in the upcoming phases."
   ]
  },
  {
   "cell_type": "markdown",
   "id": "9dac9e8e",
   "metadata": {},
   "source": [
    "# Quality Check\n",
    "After your analysis provide details on the following qualities of your selected data.\n",
    "\n",
    "* Overall Quality of the data\n",
    "    \n",
    "* Sufficient amount of the data\n",
    "\n",
    "* Sparseness of any data categories (eg. no young adults)\n",
    "\n",
    "* Trustworthiness of the data (Is it true?)\n",
    "    \n",
    "* Timeliness of the data (is it recent?)  What might be the problem if it is not?\n",
    "\n",
    "* Note Deficiencies\n",
    "\n",
    "* Available document on the data types, how the data was collected, how it was verified?\n",
    "The method for obtaining the data is well documented and described briefly in the \"Overall Quality of the Data\" section above. "
   ]
  },
  {
   "cell_type": "markdown",
   "id": "72a2a3c6",
   "metadata": {},
   "source": [
    "Provide your answers here for the quality check..."
   ]
  },
  {
   "cell_type": "markdown",
   "id": "0fd5b24c",
   "metadata": {},
   "source": [
    "### Overall Quality\n",
    "Between the amount of tracks selected for the data scraping and the features used, the quality appears to be good without any deep dive on accuracy. I am impressed with the method of obtaining the data, by using multiple spotify accounts to circumvent the limit of api calls the spotify api allows per account. With a single account, only 10k calls are allowed per day. Using multiple accounts and assuring that the browser is in incognito with a vpn allows multiple accounts to run in parallel."
   ]
  },
  {
   "cell_type": "markdown",
   "id": "71f88b5f",
   "metadata": {},
   "source": [
    "### Amount of data\n",
    "> 1,000,000 rows of data apprears to provide a sufficient amount of data for the amount of features chosen. It must be considered that there are only so many tracks available so there is an upper limit that is probably not an extraordinary amount higher than in the millions."
   ]
  },
  {
   "cell_type": "code",
   "execution_count": 36,
   "id": "71467e89",
   "metadata": {},
   "outputs": [
    {
     "data": {
      "image/png": "[encoded data removed]",
      "text/plain": [
       "<Figure size 432x288 with 1 Axes>"
      ]
     },
     "metadata": {
      "needs_background": "light"
     },
     "output_type": "display_data"
    },
    {
     "data": {
      "image/png": "[encoded data removed]",
      "text/plain": [
       "<Figure size 432x288 with 1 Axes>"
      ]
     },
     "metadata": {
      "needs_background": "light"
     },
     "output_type": "display_data"
    },
    {
     "data": {
      "image/png": "[encoded data removed]",
      "text/plain": [
       "<Figure size 432x288 with 1 Axes>"
      ]
     },
     "metadata": {
      "needs_background": "light"
     },
     "output_type": "display_data"
    },
    {
     "data": {
      "image/png": "[encoded data removed]",
      "text/plain": [
       "<Figure size 432x288 with 1 Axes>"
      ]
     },
     "metadata": {
      "needs_background": "light"
     },
     "output_type": "display_data"
    },
    {
     "data": {
      "image/png": "[encoded data removed]",
      "text/plain": [
       "<Figure size 432x288 with 1 Axes>"
      ]
     },
     "metadata": {
      "needs_background": "light"
     },
     "output_type": "display_data"
    },
    {
     "data": {
      "image/png": "[encoded data removed]",
      "text/plain": [
       "<Figure size 432x288 with 1 Axes>"
      ]
     },
     "metadata": {
      "needs_background": "light"
     },
     "output_type": "display_data"
    },
    {
     "data": {
      "image/png": "[encoded data removed]",
      "text/plain": [
       "<Figure size 432x288 with 1 Axes>"
      ]
     },
     "metadata": {
      "needs_background": "light"
     },
     "output_type": "display_data"
    },
    {
     "data": {
      "image/png": "[encoded data removed]",
      "text/plain": [
       "<Figure size 432x288 with 1 Axes>"
      ]
     },
     "metadata": {
      "needs_background": "light"
     },
     "output_type": "display_data"
    },
    {
     "data": {
      "image/png": "[encoded data removed]",
      "text/plain": [
       "<Figure size 432x288 with 1 Axes>"
      ]
     },
     "metadata": {
      "needs_background": "light"
     },
     "output_type": "display_data"
    },
    {
     "data": {
      "image/png": "[encoded data removed]",
      "text/plain": [
       "<Figure size 432x288 with 1 Axes>"
      ]
     },
     "metadata": {
      "needs_background": "light"
     },
     "output_type": "display_data"
    },
    {
     "data": {
      "image/png": "[encoded data removed]",
      "text/plain": [
       "<Figure size 432x288 with 1 Axes>"
      ]
     },
     "metadata": {
      "needs_background": "light"
     },
     "output_type": "display_data"
    },
    {
     "data": {
      "image/png": "[encoded data removed]",
      "text/plain": [
       "<Figure size 432x288 with 1 Axes>"
      ]
     },
     "metadata": {
      "needs_background": "light"
     },
     "output_type": "display_data"
    },
    {
     "data": {
      "image/png": "[encoded data removed]",
      "text/plain": [
       "<Figure size 432x288 with 1 Axes>"
      ]
     },
     "metadata": {
      "needs_background": "light"
     },
     "output_type": "display_data"
    }
   ],
   "source": [
    "num_bins = 20\n",
    "#audio_feat_df_removed.hist(column=column, bins=num_bins)\n",
    "for column in audio_feat_df_removed.columns:\n",
    "    hist = audio_feat_df_removed.hist(column=column, bins=num_bins)\n",
    "    "
   ]
  },
  {
   "cell_type": "markdown",
   "id": "477866ca",
   "metadata": {},
   "source": [
    "The features time signature and key do have missing or sparse values. This is because songs are not often written in these formats. The spareseness in this case can be discared and generally be deemed unimportant for the classification task performed by a machine learning algorithm."
   ]
  },
  {
   "cell_type": "markdown",
   "id": "e52e4a32",
   "metadata": {},
   "source": [
    "### Trustworthiness of the data\n",
    "The data is scraped from spotify. It would require some validation into checking whether or not the author performed his calculations on the tracks correctly. Having a good review on kaggle and being updated recently indicates that it has a good chance of being trustworthy."
   ]
  },
  {
   "cell_type": "markdown",
   "id": "cffb5369",
   "metadata": {},
   "source": [
    "### Timeliness\n",
    "    The last update was as of 9/14/23, which is almost as recent as it can get for the application.\n"
   ]
  },
  {
   "cell_type": "markdown",
   "id": "c1cf99f5",
   "metadata": {},
   "source": [
    "### Deficiencies\n",
    "    There are not any glaring deficiencies from the exploration that I have performed."
   ]
  },
  {
   "cell_type": "markdown",
   "id": "865b96d4",
   "metadata": {},
   "source": [
    "### Available document on the data types, how the data was collected, how it was verified\n",
    "\n",
    "Documentation: \n",
    "    https://www.kaggle.com/datasets/mcfurland/10-m-beatport-tracks-spotify-audio-features?resource=download\n",
    "        \n",
    "Everything is documented well. The datatypes of all the columns are thoroughly explained. The method for obtaining the data is well documented and described briefly in the \"Overall Quality of the Data\" section above. The validation process I see is where spotify tracks are matched to beatport tracks to assure duplicates are not put into the database."
   ]
  },
  {
   "cell_type": "markdown",
   "id": "e5366f96",
   "metadata": {},
   "source": [
    "# Extra Credit\n",
    "**Describe and demonstrate**  an interesting, useful, and unusual feature of one of the data listed libraries worthy of sharing with your class. **Or** do the same with a useful feature from a data library not used here."
   ]
  },
  {
   "cell_type": "markdown",
   "id": "f006f9ee",
   "metadata": {},
   "source": [
    "One hot encoding is a method performed on categorical data that has no ordinal value. The dataset I used for this exercise does not contain features that require one hot encoding. An example would be:"
   ]
  },
  {
   "cell_type": "code",
   "execution_count": 37,
   "id": "ea6dab9d",
   "metadata": {},
   "outputs": [
    {
     "data": {
      "text/plain": [
       "OneHotEncoder(categories=[['blue', 'red', 'orange'],\n",
       "                          ['round', 'square', 'triangle'], ['car', 'truck']])"
      ]
     },
     "execution_count": 37,
     "metadata": {},
     "output_type": "execute_result"
    }
   ],
   "source": [
    "# Extra Credit\n",
    "# One hot encoding performed from sklearn\n",
    "\n",
    "colors = ['blue', 'red', 'orange']\n",
    "shapes = ['round', 'square', 'triangle']\n",
    "vehicle = ['car', 'truck']\n",
    "\n",
    "encoder = preprocessing.OneHotEncoder(categories=[colors, shapes, vehicle])\n",
    "\n",
    "value_array = [['blue', 'round', 'car'], ['red', 'square', 'truck'], ['orange', 'triangle', 'truck']]\n",
    "encoder.fit(value_array)"
   ]
  },
  {
   "cell_type": "code",
   "execution_count": 38,
   "id": "454c1941",
   "metadata": {},
   "outputs": [
    {
     "data": {
      "text/plain": [
       "array([[0., 1., 0., 0., 0., 1., 1., 0.],\n",
       "       [0., 0., 1., 0., 1., 0., 0., 1.],\n",
       "       [1., 0., 0., 1., 0., 0., 0., 1.]])"
      ]
     },
     "execution_count": 38,
     "metadata": {},
     "output_type": "execute_result"
    }
   ],
   "source": [
    "encoder.transform([['red', 'triangle', 'car'], ['orange', 'square', 'truck'], ['blue', 'round', 'truck']]).toarray()"
   ]
  },
  {
   "cell_type": "markdown",
   "id": "3c6fae8f",
   "metadata": {},
   "source": [
    "An array is created where each of the feature possibilities is represented by a 1 or a 0. The first array elements:\n",
    "\n",
    "[0., 1., 0., 0., 0., 1., 1., 0.]\n",
    "\n",
    "represents [ Not blue, is red, not orange | not round, is square, not triangle | is car, not truck ]\n"
   ]
  }
 ],
 "metadata": {
  "kernelspec": {
   "display_name": "Python 3 (ipykernel)",
   "language": "python",
   "name": "python3"
  },
  "language_info": {
   "codemirror_mode": {
    "name": "ipython",
    "version": 3
   },
   "file_extension": ".py",
   "mimetype": "text/x-python",
   "name": "python",
   "nbconvert_exporter": "python",
   "pygments_lexer": "ipython3",
   "version": "3.8.10"
  }
 },
 "nbformat": 4,
 "nbformat_minor": 5
}
