{
 "cells": [
  {
   "cell_type": "markdown",
   "id": "050206c0",
   "metadata": {},
   "source": [
    "## Time Series Web service.  \n",
    "* Use the carotid_pressure.csv and illiac_pressure.csv for training data to build three models: 1) Carotid Pressure Model, 2) Illiac Pressure Model, 3) Combined Model\n",
    "* Targets are in column name \"targets\"\n",
    "* Convert the various waveforms into useful values for training and inference.  Inference receives a filename(s) from a web GET."
   ]
  },
  {
   "cell_type": "markdown",
   "id": "4c1c4098",
   "metadata": {},
   "source": [
    "## Assignment \n",
    "1. Populate the time_series_processing.py following the hints in the comments\n",
    "2. Integrate with time_series_processing_Service.py\n",
    "3. Test locally\n",
    "4. Build requirements.txt and Dockerfile\n",
    "5. Build a docker image\n",
    "6. Test Locally (you are provided 4 testing files for carotid and illiac pressure)\n",
    "7. Push to docker hub\n",
    "8. Populate readme for both github and docker hub (with example docker commands)\n",
    "9. Populate this notebook with working output and a summary that contains an impression of the model and how to improve it.\n",
    "* Check the rubric in canvas to make sure you understand the requirements and the assocated weights for your grade"
   ]
  },
  {
   "cell_type": "code",
   "execution_count": 8,
   "id": "a29050c8",
   "metadata": {},
   "outputs": [],
   "source": [
    "import pandas as pd\n",
    "import os\n",
    "cwd = os.getcwd()"
   ]
  },
  {
   "cell_type": "code",
   "execution_count": 9,
   "id": "c3cc0636",
   "metadata": {},
   "outputs": [],
   "source": [
    "from time_series_processing import CombinedCardiacPressure\n",
    "from time_series_processing import CarotidPressure\n",
    "from time_series_processing import IlliacPressure\n",
    "\n",
    "std_dev = 3\n",
    "\n",
    "cp = CombinedCardiacPressure()\n",
    "cp.model_learn(std_dev)\n",
    "\n",
    "carotidp = CarotidPressure()\n",
    "carotidp.model_learn(std_dev)\n",
    "\n",
    "illiacp = IlliacPressure()\n",
    "illiacp.model_learn(std_dev)"
   ]
  },
  {
   "cell_type": "markdown",
   "id": "7c7f06a4",
   "metadata": {},
   "source": [
    "### Test Model first - Get stats\n",
    "\n",
    "Displaying accuracy results for all three models"
   ]
  },
  {
   "cell_type": "code",
   "execution_count": 10,
   "id": "9f3a21d0",
   "metadata": {},
   "outputs": [
    {
     "name": "stdout",
     "output_type": "stream",
     "text": [
      "Carotid Model Accuracy: 0.18741058655221746\n",
      "Illiac Model Accuracy: 0.18168812589413447\n",
      "Combined Model Accuracy: 0.19027181688125894\n"
     ]
    }
   ],
   "source": [
    "print(\"Carotid Model Accuracy: {}\".format((carotidp.model_stats())))\n",
    "print(\"Illiac Model Accuracy: {}\".format(illiacp.model_stats()))\n",
    "print(\"Combined Model Accuracy: {}\".format(cp.model_stats()))"
   ]
  },
  {
   "cell_type": "markdown",
   "id": "da8b7582",
   "metadata": {},
   "source": [
    "### Get Determination"
   ]
  },
  {
   "cell_type": "markdown",
   "id": "f65d6bbb",
   "metadata": {},
   "source": [
    "##### Carotid Model Inference Test"
   ]
  },
  {
   "cell_type": "code",
   "execution_count": 11,
   "id": "0734b57a",
   "metadata": {},
   "outputs": [
    {
     "name": "stdout",
     "output_type": "stream",
     "text": [
      "Test 1 Results: 2\n",
      "Test 2 Results: 2\n",
      "Test 3 Results: 2\n",
      "Test 4 Results: 3\n"
     ]
    }
   ],
   "source": [
    "result = carotidp.model_infer(cwd + '/data/carotid_pressure_test_1.csv')\n",
    "print(\"Test 1 Results: {}\".format(result[0]))\n",
    "\n",
    "result = carotidp.model_infer(cwd + '/data/carotid_pressure_test_2.csv')\n",
    "print(\"Test 2 Results: {}\".format(result[0]))\n",
    "\n",
    "result = carotidp.model_infer(cwd + '/data/carotid_pressure_test_3.csv')\n",
    "print(\"Test 3 Results: {}\".format(result[0]))\n",
    "\n",
    "result = carotidp.model_infer(cwd + '/data/carotid_pressure_test_4.csv')\n",
    "print(\"Test 4 Results: {}\".format(result[0]))"
   ]
  },
  {
   "cell_type": "markdown",
   "id": "a8f94413",
   "metadata": {},
   "source": [
    "#### Illiac Model Inference Test"
   ]
  },
  {
   "cell_type": "code",
   "execution_count": 12,
   "id": "96d3e08a",
   "metadata": {},
   "outputs": [
    {
     "name": "stdout",
     "output_type": "stream",
     "text": [
      "Test 1 Results: 5\n",
      "Test 2 Results: 5\n",
      "Test 3 Results: 5\n",
      "Test 4 Results: 2\n"
     ]
    }
   ],
   "source": [
    "result = illiacp.model_infer(cwd + '/data/illiac_pressure_test_1.csv')\n",
    "print(\"Test 1 Results: {}\".format(result[0]))\n",
    "\n",
    "result = illiacp.model_infer(cwd + '/data/illiac_pressure_test_2.csv')\n",
    "print(\"Test 2 Results: {}\".format(result[0]))\n",
    "\n",
    "result = illiacp.model_infer(cwd + '/data/illiac_pressure_test_3.csv')\n",
    "print(\"Test 3 Results: {}\".format(result[0]))\n",
    "\n",
    "result = illiacp.model_infer(cwd + '/data/illiac_pressure_test_4.csv')\n",
    "print(\"Test 4 Results: {}\".format(result[0]))"
   ]
  },
  {
   "cell_type": "markdown",
   "id": "f8c24915",
   "metadata": {},
   "source": [
    "#### Combined Model Inference Test"
   ]
  },
  {
   "cell_type": "code",
   "execution_count": 13,
   "id": "fe0b6903",
   "metadata": {},
   "outputs": [
    {
     "name": "stdout",
     "output_type": "stream",
     "text": [
      "Test 1 Results: 5\n",
      "Test 2 Results: 2\n",
      "Test 3 Results: 4\n",
      "Test 4 Results: 3\n"
     ]
    }
   ],
   "source": [
    "result = cp.model_infer(cwd + '/data/carotid_pressure_test_1.csv', os.getcwd() + '/data/illiac_pressure_test_1.csv')\n",
    "print(\"Test 1 Results: {}\".format(result[0]))\n",
    "\n",
    "result = cp.model_infer(cwd + '/data/carotid_pressure_test_2.csv', os.getcwd() + '/data/illiac_pressure_test_2.csv')\n",
    "print(\"Test 2 Results: {}\".format(result[0]))\n",
    "\n",
    "result = cp.model_infer(cwd + '/data/carotid_pressure_test_3.csv', os.getcwd() + '/data/illiac_pressure_test_3.csv')\n",
    "print(\"Test 3 Results: {}\".format(result[0]))\n",
    "\n",
    "result = cp.model_infer(cwd + '/data/carotid_pressure_test_4.csv', os.getcwd() + '/data/illiac_pressure_test_4.csv')\n",
    "print(\"Test 4 Results: {}\".format(result[0]))\n",
    "    "
   ]
  },
  {
   "cell_type": "markdown",
   "id": "fdcb5300",
   "metadata": {},
   "source": [
    "### Start up the service"
   ]
  },
  {
   "cell_type": "code",
   "execution_count": 14,
   "id": "e7037761",
   "metadata": {},
   "outputs": [
    {
     "name": "stdout",
     "output_type": "stream",
     "text": [
      "starting server...\n",
      " * Serving Flask app 'time_series_processing_Service'\n",
      " * Debug mode: on\n",
      "\u001b[31m\u001b[1mWARNING: This is a development server. Do not use it in a production deployment. Use a production WSGI server instead.\u001b[0m\n",
      " * Running on all addresses (0.0.0.0)\n",
      " * Running on http://127.0.0.1:8786\n",
      " * Running on http://172.17.0.2:8786\n",
      "\u001b[33mPress CTRL+C to quit\u001b[0m\n",
      " * Restarting with stat\n",
      "starting server...\n",
      " * Debugger is active!\n",
      " * Debugger PIN: 142-363-575\n",
      "^C\n"
     ]
    }
   ],
   "source": [
    "!python time_series_processing_Service.py"
   ]
  },
  {
   "cell_type": "markdown",
   "id": "f80bdbe1",
   "metadata": {},
   "source": [
    "Try out the links \n",
    "\n",
    "### Model Stats\n",
    "* [Carotid Stats](http://localhost:8786/stats_carotid)\n",
    "\n",
    "* [Illiac Stats](http://localhost:8786/stats_illiac)\n",
    "\n",
    "* [Combined Stats](http://localhost:8786/stats_combined)\n",
    "\n",
    "### Determinations\n",
    "\n",
    "* [Carotid Determination](http://localhost:8786/infer_carotid?carotid_timeseries_filename=/rapids/notebooks/workspace/Assignment7/timeseries_assignment-main/timeseries_assignment-main/data/carotid_pressure_test_1.csv)\n",
    "\n",
    "\n",
    "* [Illiac Determination](http://localhost:8786/infer_illiac?illiac_timeseries_filename=/rapids/notebooks/workspace/Assignment7/timeseries_assignment-main/timeseries_assignment-main/data/illiac_pressure_test_1.csv)\n",
    "\n",
    "\n",
    "* [Combined Determination](http://localhost:8786/infer_combined?carotid_timeseries_filename=/rapids/notebooks/workspace/Assignment7/timeseries_assignment-main/timeseries_assignment-main/data/carotid_pressure_test_1.csv&illiac_timeseries_filename=/rapids/notebooks/workspace/Assignment7/timeseries_assignment-main/timeseries_assignment-main/data/illiac_pressure_test_1.csv)\n",
    "\n"
   ]
  },
  {
   "cell_type": "markdown",
   "id": "3552c40d",
   "metadata": {},
   "source": [
    "### You must kill the kernel to try again for the port stays locked to the current kernel"
   ]
  },
  {
   "cell_type": "markdown",
   "id": "88815bab",
   "metadata": {},
   "source": [
    "# Summary\n",
    "* Assignment and Model Results\n",
    "* Techniques to improve the results"
   ]
  },
  {
   "cell_type": "markdown",
   "id": "2278af24",
   "metadata": {},
   "source": [
    "PUT YOUR ANSWERS HERE which could include additional cells with working code examples"
   ]
  },
  {
   "cell_type": "markdown",
   "id": "37496a98",
   "metadata": {},
   "source": [
    "#### Model Results\n",
    "\n",
    "All of the models hover around ~20% accuracy with all three models. There are 6 possibilities for classifications. Below are the confusion matrices for all three models:"
   ]
  },
  {
   "cell_type": "code",
   "execution_count": 15,
   "id": "7ae1bc83",
   "metadata": {},
   "outputs": [
    {
     "name": "stdout",
     "output_type": "stream",
     "text": [
      "[[24 13 19 17 11 18]\n",
      " [23 16 21 20 24 13]\n",
      " [19 22 27 16 24 24]\n",
      " [19 18 24 19 22 13]\n",
      " [16 15 25 18 21 27]\n",
      " [21 11 13 21 21 24]]\n"
     ]
    }
   ],
   "source": [
    "carotid_cm = carotidp.cm\n",
    "print(carotid_cm)"
   ]
  },
  {
   "cell_type": "code",
   "execution_count": 17,
   "id": "3a6d19b1",
   "metadata": {},
   "outputs": [
    {
     "name": "stdout",
     "output_type": "stream",
     "text": [
      "[[22 16 23 14 15 12]\n",
      " [26 18 17 19 20 17]\n",
      " [23 19 24 19 22 25]\n",
      " [18 18 25 22 19 13]\n",
      " [15 15 29 21 16 26]\n",
      " [20 12 16 20 18 25]]\n"
     ]
    }
   ],
   "source": [
    "illiac_cm = illiacp.cm\n",
    "print(illiac_cm)"
   ]
  },
  {
   "cell_type": "code",
   "execution_count": 18,
   "id": "803ca222",
   "metadata": {},
   "outputs": [
    {
     "name": "stdout",
     "output_type": "stream",
     "text": [
      "[[23 16 19 19 10 15]\n",
      " [24 20 20 15 20 18]\n",
      " [17 21 27 22 21 24]\n",
      " [16 21 26 19 18 15]\n",
      " [15 13 27 17 22 28]\n",
      " [17 14 17 17 24 22]]\n"
     ]
    }
   ],
   "source": [
    "cp = cp.cm\n",
    "print(cp)"
   ]
  },
  {
   "cell_type": "markdown",
   "id": "d129051f",
   "metadata": {},
   "source": [
    "The models predict the most instances of class 0 and 2 the most. Class 1 and 3 have the lowest # of prediction values for the cartid and combined model. For the Illiac model it's 1 and 4 as the lowest. The model accuracy is not good as is, so more tweaks need to be made in order to make the model reliable."
   ]
  },
  {
   "cell_type": "markdown",
   "id": "f344eef2",
   "metadata": {},
   "source": [
    "#### Improvement Techniques"
   ]
  },
  {
   "cell_type": "markdown",
   "id": "a742d517",
   "metadata": {},
   "source": [
    "I think there is an issue with my interpolation. Normally I would use a spline interpolation instead of linear for this case. For some reason pandas.interpolate is taking too long. I tried to process the interpolation in batches for a spline of order 3, where there was some unexpected behavior of the interpolation function not interpolating/extrapolating all values. I then tried using scipy interpolation with some success but running short on time to get the function to work properly. The linear interpolation does actually interpolate/extrapolate the values I need, but believe this is where my error source is partially contributed from.\n",
    "\n",
    "I could also mess around with the standard deviation used to filter. I read that 3 or 6 stdevs is typical, so for this model I went with three. Some experimentation could be done to optimize this parameter."
   ]
  },
  {
   "cell_type": "markdown",
   "id": "253ba616",
   "metadata": {},
   "source": []
  }
 ],
 "metadata": {
  "kernelspec": {
   "display_name": "Python 3 (ipykernel)",
   "language": "python",
   "name": "python3"
  },
  "language_info": {
   "codemirror_mode": {
    "name": "ipython",
    "version": 3
   },
   "file_extension": ".py",
   "mimetype": "text/x-python",
   "name": "python",
   "nbconvert_exporter": "python",
   "pygments_lexer": "ipython3",
   "version": "3.8.10"
  }
 },
 "nbformat": 4,
 "nbformat_minor": 5
}
