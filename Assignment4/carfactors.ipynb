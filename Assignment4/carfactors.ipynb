{
 "cells": [
  {
   "cell_type": "markdown",
   "id": "aff11318",
   "metadata": {},
   "source": [
    "## Categorical Web service to determine number of days to sell a car given certain features using logistic regression.  \n",
    "* Use the cars.csv for data\n",
    "* Initially use the following 6 features only -  **transmision**, **color**, odometer_value,  year_produced, **body_type**, & prices_usd\n",
    "* The bold features require conversion to numbers for they are text categories\n",
    "* The label or Y value is duration_listed - this is what the model is trying to predict"
   ]
  },
  {
   "cell_type": "markdown",
   "id": "ad4b014b",
   "metadata": {},
   "source": [
    "## Assignment \n",
    "1. Populate the carfactors.py following the hints in the comments\n",
    "1. Integrate with carfactors_service\n",
    "1. Test locally\n",
    "1. Build requirements.txt and Dockerfile\n",
    "1. Build a docker image\n",
    "1. Test Locally\n",
    "1. Push to docker hub\n",
    "1. Populate readme for both github and docker hub (with example docker commands)\n",
    "1. Populate this notebook with working output and a summary that contains an impression of the model and how to improve it.\n",
    "* Check the rubric in canvas to make sure you understand the requirements and the assocated weights for your grade"
   ]
  },
  {
   "cell_type": "code",
   "execution_count": 12,
   "id": "60bcd7cd",
   "metadata": {},
   "outputs": [],
   "source": [
    "from carsfactors import carsfactors\n",
    "cf = carsfactors()"
   ]
  },
  {
   "cell_type": "markdown",
   "id": "0894e48e",
   "metadata": {},
   "source": [
    "### Test Model first - Get stats"
   ]
  },
  {
   "cell_type": "code",
   "execution_count": 13,
   "id": "e15baa0b",
   "metadata": {},
   "outputs": [
    {
     "name": "stderr",
     "output_type": "stream",
     "text": [
      "/usr/local/lib/python3.8/dist-packages/pandas/core/indexing.py:1667: SettingWithCopyWarning: \n",
      "A value is trying to be set on a copy of a slice from a DataFrame.\n",
      "Try using .loc[row_indexer,col_indexer] = value instead\n",
      "\n",
      "See the caveats in the documentation: https://pandas.pydata.org/pandas-docs/stable/user_guide/indexing.html#returning-a-view-versus-a-copy\n",
      "  self.obj[key] = value\n"
     ]
    },
    {
     "data": {
      "text/plain": [
       "'0.004820381060035017'"
      ]
     },
     "execution_count": 13,
     "metadata": {},
     "output_type": "execute_result"
    }
   ],
   "source": [
    "cf.model_stats()"
   ]
  },
  {
   "cell_type": "markdown",
   "id": "e1e47af8",
   "metadata": {},
   "source": [
    "### Get Determination"
   ]
  },
  {
   "cell_type": "code",
   "execution_count": 14,
   "id": "d59497a2",
   "metadata": {},
   "outputs": [
    {
     "data": {
      "text/plain": [
       "-1024619208072.9473"
      ]
     },
     "execution_count": 14,
     "metadata": {},
     "output_type": "execute_result"
    }
   ],
   "source": [
    "cf.model_infer(\"automatic\", \"blue\", 12000, 2020, \"suv\", 20000)"
   ]
  },
  {
   "cell_type": "markdown",
   "id": "c6894c23",
   "metadata": {},
   "source": [
    "### Start up the service"
   ]
  },
  {
   "cell_type": "code",
   "execution_count": 16,
   "id": "8f8bec37",
   "metadata": {},
   "outputs": [
    {
     "name": "stdout",
     "output_type": "stream",
     "text": [
      "starting server...\n",
      " * Serving Flask app 'carfactors_service'\n",
      " * Debug mode: on\n",
      "\u001b[31m\u001b[1mWARNING: This is a development server. Do not use it in a production deployment. Use a production WSGI server instead.\u001b[0m\n",
      " * Running on all addresses (0.0.0.0)\n",
      " * Running on http://127.0.0.1:8786\n",
      " * Running on http://172.17.0.2:8786\n",
      "\u001b[33mPress CTRL+C to quit\u001b[0m\n",
      " * Restarting with stat\n",
      "starting server...\n",
      " * Debugger is active!\n",
      " * Debugger PIN: 123-616-241\n",
      "here\n",
      "All values are contained in body type column\n",
      "/usr/local/lib/python3.8/dist-packages/pandas/core/indexing.py:1667: SettingWithCopyWarning: \n",
      "A value is trying to be set on a copy of a slice from a DataFrame.\n",
      "Try using .loc[row_indexer,col_indexer] = value instead\n",
      "\n",
      "See the caveats in the documentation: https://pandas.pydata.org/pandas-docs/stable/user_guide/indexing.html#returning-a-view-versus-a-copy\n",
      "  self.obj[key] = value\n",
      "172.17.0.1 - - [24/Sep/2023 19:02:21] \"GET /stats HTTP/1.1\" 200 -\n",
      "^C\n"
     ]
    }
   ],
   "source": [
    "!python carfactors_service.py"
   ]
  },
  {
   "cell_type": "markdown",
   "id": "b5b7378f",
   "metadata": {},
   "source": [
    "Try out the links \n",
    "* [stats](http://localhost:8786/stats)\n",
    "* [determination](http://localhost:8786/infer?transmission=automatic&color=blue&odometer=12000&year=2020&bodytype=suv&price=20000)"
   ]
  },
  {
   "cell_type": "markdown",
   "id": "671a2eea",
   "metadata": {},
   "source": [
    "### You must kill the kernel to try again for the port stays locked to the current kernel"
   ]
  },
  {
   "cell_type": "markdown",
   "id": "7c275b74",
   "metadata": {},
   "source": [
    "# Summary\n",
    "* Assignment and Model Results\n",
    "* Techniques to improve the results"
   ]
  },
  {
   "cell_type": "markdown",
   "id": "d54a6ceb",
   "metadata": {},
   "source": [
    "PUT YOUR ANSWERS HERE which could include additional cells with working code examples"
   ]
  },
  {
   "cell_type": "markdown",
   "id": "93774670",
   "metadata": {},
   "source": [
    "The model appears not not work at all with the output being orders of magnitudes off of where it should be. The score is low while the output magnitude is large. One of my thoughts is that trying to fit a linear model with so many categorical variables throws the linear fit off entirely. In order to improve the model, normalizing could be used as a scaling factor instead of standardizing. Since there is a majority of categorical variables, normalizing the numeric features between 0-1 instead of around 0 might yield better performance since they will be more inline with the one hot encoded variables."
   ]
  },
  {
   "cell_type": "markdown",
   "id": "3f91ba9f",
   "metadata": {},
   "source": [
    "Aside from trying a new model, dimensions could be reduced. One example would be the odometer_value and the year produced. In general these would be correlated except for rare cases with collector vehicles that are stored for many years and kept in good condition. PLotting the two features below:"
   ]
  },
  {
   "cell_type": "code",
   "execution_count": null,
   "id": "aff74902",
   "metadata": {},
   "outputs": [
    {
     "data": {
      "image/png": "[encoded data removed]",
      "text/plain": [
       "<Figure size 432x288 with 1 Axes>"
      ]
     },
     "metadata": {
      "needs_background": "light"
     },
     "output_type": "display_data"
    }
   ],
   "source": [
    "import pandas as pd\n",
    "\n",
    "# Importing the dataset into a pandas dataframe\n",
    "car_info_df = pd.read_csv('cars.csv')\n",
    "\n",
    "ax1 = car_info_df.plot.scatter(x='year_produced', y='odometer_value', c='DarkBlue')"
   ]
  },
  {
   "cell_type": "markdown",
   "id": "d85c3b1b",
   "metadata": {},
   "source": [
    "Taking into account of the outliers, in general you see that the vehicles around 1990-2010 have higher mileage which is expected. Some more dimensionality reduction could be experimented with for these features and likely many others. Price vs odometer also comes to mind. "
   ]
  },
  {
   "cell_type": "markdown",
   "id": "c7624f34",
   "metadata": {},
   "source": [
    "It is also possible that more critical features could be selected. Number of photos which was dropped in the initial analysis may be an interesting feature to keep. Because of human pyschology and marketing, I believe humans would be more apt to check out ads they trust more. This is the case especially if they have to drive a long distance to check it out. Of course, this might only be more of the case for cars that aren't rare and that there are many listings for. "
   ]
  }
 ],
 "metadata": {
  "kernelspec": {
   "display_name": "Python 3 (ipykernel)",
   "language": "python",
   "name": "python3"
  },
  "language_info": {
   "codemirror_mode": {
    "name": "ipython",
    "version": 3
   },
   "file_extension": ".py",
   "mimetype": "text/x-python",
   "name": "python",
   "nbconvert_exporter": "python",
   "pygments_lexer": "ipython3",
   "version": "3.8.10"
  }
 },
 "nbformat": 4,
 "nbformat_minor": 5
}
